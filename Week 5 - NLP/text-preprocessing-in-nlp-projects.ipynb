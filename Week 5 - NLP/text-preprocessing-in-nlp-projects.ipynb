{
 "cells": [
  {
   "cell_type": "code",
   "execution_count": 5,
   "id": "e1920067",
   "metadata": {
    "_cell_guid": "b1076dfc-b9ad-4769-8c92-a6c4dae69d19",
    "_uuid": "8f2839f25d086af736a60e9eeb907d3b93b6e0e5",
    "execution": {
     "iopub.execute_input": "2023-01-18T14:21:08.688597Z",
     "iopub.status.busy": "2023-01-18T14:21:08.686689Z",
     "iopub.status.idle": "2023-01-18T14:21:08.697276Z",
     "shell.execute_reply": "2023-01-18T14:21:08.697762Z",
     "shell.execute_reply.started": "2023-01-18T13:23:49.244538Z"
    },
    "papermill": {
     "duration": 0.080024,
     "end_time": "2023-01-18T14:21:08.698156",
     "exception": false,
     "start_time": "2023-01-18T14:21:08.618132",
     "status": "completed"
    },
    "tags": []
   },
   "outputs": [],
   "source": [
    "import numpy as np\n",
    "import pandas as pd"
   ]
  },
  {
   "cell_type": "code",
   "execution_count": 6,
   "id": "998d8d0e",
   "metadata": {
    "execution": {
     "iopub.execute_input": "2023-01-18T14:21:08.830029Z",
     "iopub.status.busy": "2023-01-18T14:21:08.827999Z",
     "iopub.status.idle": "2023-01-18T14:21:10.489776Z",
     "shell.execute_reply": "2023-01-18T14:21:10.488989Z",
     "shell.execute_reply.started": "2023-01-18T13:23:51.967195Z"
    },
    "papermill": {
     "duration": 1.725827,
     "end_time": "2023-01-18T14:21:10.489970",
     "exception": false,
     "start_time": "2023-01-18T14:21:08.764143",
     "status": "completed"
    },
    "tags": []
   },
   "outputs": [],
   "source": [
    "df = pd.read_csv('IMDB_Dataset.csv')"
   ]
  },
  {
   "cell_type": "code",
   "execution_count": 7,
   "id": "36c063fb",
   "metadata": {
    "execution": {
     "iopub.execute_input": "2023-01-18T14:21:10.619674Z",
     "iopub.status.busy": "2023-01-18T14:21:10.618925Z",
     "iopub.status.idle": "2023-01-18T14:21:10.622964Z",
     "shell.execute_reply": "2023-01-18T14:21:10.623518Z",
     "shell.execute_reply.started": "2023-01-18T13:23:54.340959Z"
    },
    "papermill": {
     "duration": 0.073403,
     "end_time": "2023-01-18T14:21:10.623708",
     "exception": false,
     "start_time": "2023-01-18T14:21:10.550305",
     "status": "completed"
    },
    "tags": []
   },
   "outputs": [
    {
     "data": {
      "text/plain": [
       "(40000, 2)"
      ]
     },
     "execution_count": 7,
     "metadata": {},
     "output_type": "execute_result"
    }
   ],
   "source": [
    "df.shape"
   ]
  },
  {
   "cell_type": "code",
   "execution_count": 8,
   "id": "ff5bbd27",
   "metadata": {
    "execution": {
     "iopub.execute_input": "2023-01-18T14:21:10.761560Z",
     "iopub.status.busy": "2023-01-18T14:21:10.760656Z",
     "iopub.status.idle": "2023-01-18T14:21:10.775247Z",
     "shell.execute_reply": "2023-01-18T14:21:10.775814Z",
     "shell.execute_reply.started": "2023-01-18T13:23:56.345778Z"
    },
    "papermill": {
     "duration": 0.08886,
     "end_time": "2023-01-18T14:21:10.776025",
     "exception": false,
     "start_time": "2023-01-18T14:21:10.687165",
     "status": "completed"
    },
    "tags": []
   },
   "outputs": [
    {
     "data": {
      "text/html": [
       "<div>\n",
       "<style scoped>\n",
       "    .dataframe tbody tr th:only-of-type {\n",
       "        vertical-align: middle;\n",
       "    }\n",
       "\n",
       "    .dataframe tbody tr th {\n",
       "        vertical-align: top;\n",
       "    }\n",
       "\n",
       "    .dataframe thead th {\n",
       "        text-align: right;\n",
       "    }\n",
       "</style>\n",
       "<table border=\"1\" class=\"dataframe\">\n",
       "  <thead>\n",
       "    <tr style=\"text-align: right;\">\n",
       "      <th></th>\n",
       "      <th>review</th>\n",
       "      <th>sentiment</th>\n",
       "    </tr>\n",
       "  </thead>\n",
       "  <tbody>\n",
       "    <tr>\n",
       "      <th>0</th>\n",
       "      <td>I grew up (b. 1965) watching and loving the Th...</td>\n",
       "      <td>negative</td>\n",
       "    </tr>\n",
       "    <tr>\n",
       "      <th>1</th>\n",
       "      <td>When I put this movie in my DVD player, and sa...</td>\n",
       "      <td>negative</td>\n",
       "    </tr>\n",
       "    <tr>\n",
       "      <th>2</th>\n",
       "      <td>Why do people who do not know what a particula...</td>\n",
       "      <td>negative</td>\n",
       "    </tr>\n",
       "    <tr>\n",
       "      <th>3</th>\n",
       "      <td>Even though I have great interest in Biblical ...</td>\n",
       "      <td>negative</td>\n",
       "    </tr>\n",
       "    <tr>\n",
       "      <th>4</th>\n",
       "      <td>Im a die hard Dads Army fan and nothing will e...</td>\n",
       "      <td>positive</td>\n",
       "    </tr>\n",
       "  </tbody>\n",
       "</table>\n",
       "</div>"
      ],
      "text/plain": [
       "                                              review sentiment\n",
       "0  I grew up (b. 1965) watching and loving the Th...  negative\n",
       "1  When I put this movie in my DVD player, and sa...  negative\n",
       "2  Why do people who do not know what a particula...  negative\n",
       "3  Even though I have great interest in Biblical ...  negative\n",
       "4  Im a die hard Dads Army fan and nothing will e...  positive"
      ]
     },
     "execution_count": 8,
     "metadata": {},
     "output_type": "execute_result"
    }
   ],
   "source": [
    "df.head()"
   ]
  },
  {
   "cell_type": "markdown",
   "id": "eff47012",
   "metadata": {
    "papermill": {
     "duration": 0.060612,
     "end_time": "2023-01-18T14:21:10.898975",
     "exception": false,
     "start_time": "2023-01-18T14:21:10.838363",
     "status": "completed"
    },
    "tags": []
   },
   "source": [
    "# Lowercase"
   ]
  },
  {
   "cell_type": "code",
   "execution_count": 9,
   "id": "3c6dbf45",
   "metadata": {
    "execution": {
     "iopub.execute_input": "2023-01-18T14:21:11.029682Z",
     "iopub.status.busy": "2023-01-18T14:21:11.028926Z",
     "iopub.status.idle": "2023-01-18T14:21:11.032753Z",
     "shell.execute_reply": "2023-01-18T14:21:11.032251Z",
     "shell.execute_reply.started": "2023-01-18T13:23:59.000459Z"
    },
    "papermill": {
     "duration": 0.073235,
     "end_time": "2023-01-18T14:21:11.032954",
     "exception": false,
     "start_time": "2023-01-18T14:21:10.959719",
     "status": "completed"
    },
    "tags": []
   },
   "outputs": [
    {
     "data": {
      "text/plain": [
       "'even though i have great interest in biblical movies, i was bored to death every minute of the movie. everything is bad. the movie is too long, the acting is most of the time a joke and the script is horrible. i did not get the point in mixing the story about abraham and noah together. so if you value your time and sanity stay away from this horror.'"
      ]
     },
     "execution_count": 9,
     "metadata": {},
     "output_type": "execute_result"
    }
   ],
   "source": [
    "df['review'][3].lower()"
   ]
  },
  {
   "cell_type": "code",
   "execution_count": 10,
   "id": "590628fb",
   "metadata": {
    "execution": {
     "iopub.execute_input": "2023-01-18T14:21:11.181001Z",
     "iopub.status.busy": "2023-01-18T14:21:11.168044Z",
     "iopub.status.idle": "2023-01-18T14:21:11.341646Z",
     "shell.execute_reply": "2023-01-18T14:21:11.340986Z",
     "shell.execute_reply.started": "2023-01-18T13:24:01.463187Z"
    },
    "papermill": {
     "duration": 0.248041,
     "end_time": "2023-01-18T14:21:11.341815",
     "exception": false,
     "start_time": "2023-01-18T14:21:11.093774",
     "status": "completed"
    },
    "tags": []
   },
   "outputs": [],
   "source": [
    "df['review'] = df['review'].str.lower()"
   ]
  },
  {
   "cell_type": "code",
   "execution_count": 11,
   "id": "0b6a6ccd",
   "metadata": {
    "execution": {
     "iopub.execute_input": "2023-01-18T14:21:11.478883Z",
     "iopub.status.busy": "2023-01-18T14:21:11.477875Z",
     "iopub.status.idle": "2023-01-18T14:21:11.481327Z",
     "shell.execute_reply": "2023-01-18T14:21:11.481873Z",
     "shell.execute_reply.started": "2023-01-18T13:24:03.543326Z"
    },
    "papermill": {
     "duration": 0.077567,
     "end_time": "2023-01-18T14:21:11.482129",
     "exception": false,
     "start_time": "2023-01-18T14:21:11.404562",
     "status": "completed"
    },
    "tags": []
   },
   "outputs": [
    {
     "data": {
      "text/html": [
       "<div>\n",
       "<style scoped>\n",
       "    .dataframe tbody tr th:only-of-type {\n",
       "        vertical-align: middle;\n",
       "    }\n",
       "\n",
       "    .dataframe tbody tr th {\n",
       "        vertical-align: top;\n",
       "    }\n",
       "\n",
       "    .dataframe thead th {\n",
       "        text-align: right;\n",
       "    }\n",
       "</style>\n",
       "<table border=\"1\" class=\"dataframe\">\n",
       "  <thead>\n",
       "    <tr style=\"text-align: right;\">\n",
       "      <th></th>\n",
       "      <th>review</th>\n",
       "      <th>sentiment</th>\n",
       "    </tr>\n",
       "  </thead>\n",
       "  <tbody>\n",
       "    <tr>\n",
       "      <th>0</th>\n",
       "      <td>i grew up (b. 1965) watching and loving the th...</td>\n",
       "      <td>negative</td>\n",
       "    </tr>\n",
       "    <tr>\n",
       "      <th>1</th>\n",
       "      <td>when i put this movie in my dvd player, and sa...</td>\n",
       "      <td>negative</td>\n",
       "    </tr>\n",
       "    <tr>\n",
       "      <th>2</th>\n",
       "      <td>why do people who do not know what a particula...</td>\n",
       "      <td>negative</td>\n",
       "    </tr>\n",
       "    <tr>\n",
       "      <th>3</th>\n",
       "      <td>even though i have great interest in biblical ...</td>\n",
       "      <td>negative</td>\n",
       "    </tr>\n",
       "    <tr>\n",
       "      <th>4</th>\n",
       "      <td>im a die hard dads army fan and nothing will e...</td>\n",
       "      <td>positive</td>\n",
       "    </tr>\n",
       "  </tbody>\n",
       "</table>\n",
       "</div>"
      ],
      "text/plain": [
       "                                              review sentiment\n",
       "0  i grew up (b. 1965) watching and loving the th...  negative\n",
       "1  when i put this movie in my dvd player, and sa...  negative\n",
       "2  why do people who do not know what a particula...  negative\n",
       "3  even though i have great interest in biblical ...  negative\n",
       "4  im a die hard dads army fan and nothing will e...  positive"
      ]
     },
     "execution_count": 11,
     "metadata": {},
     "output_type": "execute_result"
    }
   ],
   "source": [
    "df.head()"
   ]
  },
  {
   "cell_type": "markdown",
   "id": "4e3f4a00",
   "metadata": {
    "papermill": {
     "duration": 0.060977,
     "end_time": "2023-01-18T14:21:11.604332",
     "exception": false,
     "start_time": "2023-01-18T14:21:11.543355",
     "status": "completed"
    },
    "tags": []
   },
   "source": [
    "# Remove HTML Tags"
   ]
  },
  {
   "cell_type": "code",
   "execution_count": 1,
   "id": "e63b7ab0",
   "metadata": {
    "execution": {
     "iopub.execute_input": "2023-01-18T14:21:11.737398Z",
     "iopub.status.busy": "2023-01-18T14:21:11.736278Z",
     "iopub.status.idle": "2023-01-18T14:21:11.739161Z",
     "shell.execute_reply": "2023-01-18T14:21:11.738448Z",
     "shell.execute_reply.started": "2023-01-18T13:24:05.933090Z"
    },
    "papermill": {
     "duration": 0.071944,
     "end_time": "2023-01-18T14:21:11.739339",
     "exception": false,
     "start_time": "2023-01-18T14:21:11.667395",
     "status": "completed"
    },
    "tags": []
   },
   "outputs": [],
   "source": [
    "import re\n",
    "def remove_html_tags(text):\n",
    "    pattern = re.compile('<.*?>')\n",
    "    return pattern.sub(r'', text)"
   ]
  },
  {
   "cell_type": "code",
   "execution_count": 2,
   "id": "bf1af7de",
   "metadata": {
    "execution": {
     "iopub.execute_input": "2023-01-18T14:21:11.869809Z",
     "iopub.status.busy": "2023-01-18T14:21:11.868747Z",
     "iopub.status.idle": "2023-01-18T14:21:11.871250Z",
     "shell.execute_reply": "2023-01-18T14:21:11.871743Z",
     "shell.execute_reply.started": "2023-01-18T13:24:08.377713Z"
    },
    "papermill": {
     "duration": 0.070786,
     "end_time": "2023-01-18T14:21:11.872010",
     "exception": false,
     "start_time": "2023-01-18T14:21:11.801224",
     "status": "completed"
    },
    "tags": []
   },
   "outputs": [],
   "source": [
    "text = \"<html><body><p> Movie 1</p><p> Actor - Aamir Khan</p><p> Click here to <a href='http://google.com'>download</a></p></body></html>\""
   ]
  },
  {
   "cell_type": "code",
   "execution_count": 3,
   "id": "4a9a9092",
   "metadata": {
    "execution": {
     "iopub.execute_input": "2023-01-18T14:21:12.005366Z",
     "iopub.status.busy": "2023-01-18T14:21:12.004420Z",
     "iopub.status.idle": "2023-01-18T14:21:12.008011Z",
     "shell.execute_reply": "2023-01-18T14:21:12.008550Z",
     "shell.execute_reply.started": "2023-01-18T13:24:11.084239Z"
    },
    "papermill": {
     "duration": 0.074385,
     "end_time": "2023-01-18T14:21:12.008744",
     "exception": false,
     "start_time": "2023-01-18T14:21:11.934359",
     "status": "completed"
    },
    "tags": []
   },
   "outputs": [
    {
     "data": {
      "text/plain": [
       "' Movie 1 Actor - Aamir Khan Click here to download'"
      ]
     },
     "execution_count": 3,
     "metadata": {},
     "output_type": "execute_result"
    }
   ],
   "source": [
    "remove_html_tags(text)"
   ]
  },
  {
   "cell_type": "code",
   "execution_count": 12,
   "id": "3db3e688",
   "metadata": {
    "execution": {
     "iopub.execute_input": "2023-01-18T14:21:12.159203Z",
     "iopub.status.busy": "2023-01-18T14:21:12.141762Z",
     "iopub.status.idle": "2023-01-18T14:21:12.339451Z",
     "shell.execute_reply": "2023-01-18T14:21:12.338750Z",
     "shell.execute_reply.started": "2023-01-18T13:24:13.559148Z"
    },
    "papermill": {
     "duration": 0.26844,
     "end_time": "2023-01-18T14:21:12.339621",
     "exception": false,
     "start_time": "2023-01-18T14:21:12.071181",
     "status": "completed"
    },
    "tags": []
   },
   "outputs": [],
   "source": [
    "df['review'] = df['review'].apply(remove_html_tags)"
   ]
  },
  {
   "cell_type": "code",
   "execution_count": 13,
   "id": "3dee6f63",
   "metadata": {
    "execution": {
     "iopub.execute_input": "2023-01-18T14:21:12.475749Z",
     "iopub.status.busy": "2023-01-18T14:21:12.474694Z",
     "iopub.status.idle": "2023-01-18T14:21:12.479104Z",
     "shell.execute_reply": "2023-01-18T14:21:12.478495Z",
     "shell.execute_reply.started": "2023-01-18T13:24:15.592513Z"
    },
    "papermill": {
     "duration": 0.07821,
     "end_time": "2023-01-18T14:21:12.479273",
     "exception": false,
     "start_time": "2023-01-18T14:21:12.401063",
     "status": "completed"
    },
    "tags": []
   },
   "outputs": [
    {
     "data": {
      "text/plain": [
       "0        i grew up (b. 1965) watching and loving the th...\n",
       "1        when i put this movie in my dvd player, and sa...\n",
       "2        why do people who do not know what a particula...\n",
       "3        even though i have great interest in biblical ...\n",
       "4        im a die hard dads army fan and nothing will e...\n",
       "                               ...                        \n",
       "39995    \"western union\" is something of a forgotten cl...\n",
       "39996    this movie is an incredible piece of work. it ...\n",
       "39997    my wife and i watched this movie because we pl...\n",
       "39998    when i first watched flatliners, i was amazed....\n",
       "39999    why would this film be so good, but only gross...\n",
       "Name: review, Length: 40000, dtype: object"
      ]
     },
     "execution_count": 13,
     "metadata": {},
     "output_type": "execute_result"
    }
   ],
   "source": [
    "df['review']"
   ]
  },
  {
   "cell_type": "markdown",
   "id": "6b330e18",
   "metadata": {
    "papermill": {
     "duration": 0.061618,
     "end_time": "2023-01-18T14:21:12.603117",
     "exception": false,
     "start_time": "2023-01-18T14:21:12.541499",
     "status": "completed"
    },
    "tags": []
   },
   "source": [
    "# Remove URLS"
   ]
  },
  {
   "cell_type": "code",
   "execution_count": 14,
   "id": "98327aac",
   "metadata": {
    "execution": {
     "iopub.execute_input": "2023-01-18T14:21:12.734128Z",
     "iopub.status.busy": "2023-01-18T14:21:12.733396Z",
     "iopub.status.idle": "2023-01-18T14:21:12.736223Z",
     "shell.execute_reply": "2023-01-18T14:21:12.735590Z",
     "shell.execute_reply.started": "2023-01-18T13:24:17.979648Z"
    },
    "papermill": {
     "duration": 0.069699,
     "end_time": "2023-01-18T14:21:12.736390",
     "exception": false,
     "start_time": "2023-01-18T14:21:12.666691",
     "status": "completed"
    },
    "tags": []
   },
   "outputs": [],
   "source": [
    "def remove_url(text):\n",
    "    pattern = re.compile(r'https?://\\S+|www\\.\\S+')\n",
    "    return pattern.sub(r'', text)"
   ]
  },
  {
   "cell_type": "code",
   "execution_count": 15,
   "id": "e1af4540",
   "metadata": {
    "execution": {
     "iopub.execute_input": "2023-01-18T14:21:12.865539Z",
     "iopub.status.busy": "2023-01-18T14:21:12.864571Z",
     "iopub.status.idle": "2023-01-18T14:21:12.867410Z",
     "shell.execute_reply": "2023-01-18T14:21:12.867930Z",
     "shell.execute_reply.started": "2023-01-18T13:24:20.475617Z"
    },
    "papermill": {
     "duration": 0.06983,
     "end_time": "2023-01-18T14:21:12.868157",
     "exception": false,
     "start_time": "2023-01-18T14:21:12.798327",
     "status": "completed"
    },
    "tags": []
   },
   "outputs": [],
   "source": [
    "text1 = 'Check out my notebook https://www.kaggle.com/campusx/notebook8223fc1abb'\n",
    "text2 = 'Check out my notebook http://www.kaggle.com/campusx/notebook8223fc1abb'\n",
    "text3 = 'Google search here www.google.com'\n",
    "text4 = 'For notebook click https://www.kaggle.com/campusx/notebook8223fc1abb to search check www.google.com'"
   ]
  },
  {
   "cell_type": "code",
   "execution_count": 18,
   "id": "d71fe3da",
   "metadata": {
    "execution": {
     "iopub.execute_input": "2023-01-18T14:21:13.000864Z",
     "iopub.status.busy": "2023-01-18T14:21:13.000097Z",
     "iopub.status.idle": "2023-01-18T14:21:13.004774Z",
     "shell.execute_reply": "2023-01-18T14:21:13.004222Z",
     "shell.execute_reply.started": "2023-01-18T13:24:22.523319Z"
    },
    "papermill": {
     "duration": 0.073382,
     "end_time": "2023-01-18T14:21:13.004965",
     "exception": false,
     "start_time": "2023-01-18T14:21:12.931583",
     "status": "completed"
    },
    "tags": []
   },
   "outputs": [
    {
     "data": {
      "text/plain": [
       "'Google search here '"
      ]
     },
     "execution_count": 18,
     "metadata": {},
     "output_type": "execute_result"
    }
   ],
   "source": [
    "remove_url(text3)"
   ]
  },
  {
   "cell_type": "markdown",
   "id": "3795ded1",
   "metadata": {
    "papermill": {
     "duration": 0.061978,
     "end_time": "2023-01-18T14:21:13.131295",
     "exception": false,
     "start_time": "2023-01-18T14:21:13.069317",
     "status": "completed"
    },
    "tags": []
   },
   "source": [
    "# Remove Punctuation"
   ]
  },
  {
   "cell_type": "code",
   "execution_count": 19,
   "id": "c8ae60c1",
   "metadata": {
    "execution": {
     "iopub.execute_input": "2023-01-18T14:21:13.266877Z",
     "iopub.status.busy": "2023-01-18T14:21:13.265941Z",
     "iopub.status.idle": "2023-01-18T14:21:13.269291Z",
     "shell.execute_reply": "2023-01-18T14:21:13.269863Z",
     "shell.execute_reply.started": "2023-01-18T13:24:24.858628Z"
    },
    "papermill": {
     "duration": 0.076504,
     "end_time": "2023-01-18T14:21:13.270099",
     "exception": false,
     "start_time": "2023-01-18T14:21:13.193595",
     "status": "completed"
    },
    "tags": []
   },
   "outputs": [
    {
     "data": {
      "text/plain": [
       "'!\"#$%&\\'()*+,-./:;<=>?@[\\\\]^_`{|}~'"
      ]
     },
     "execution_count": 19,
     "metadata": {},
     "output_type": "execute_result"
    }
   ],
   "source": [
    "import string,time\n",
    "string.punctuation"
   ]
  },
  {
   "cell_type": "code",
   "execution_count": 20,
   "id": "fdcd3e16",
   "metadata": {
    "execution": {
     "iopub.execute_input": "2023-01-18T14:21:13.405564Z",
     "iopub.status.busy": "2023-01-18T14:21:13.404831Z",
     "iopub.status.idle": "2023-01-18T14:21:13.407297Z",
     "shell.execute_reply": "2023-01-18T14:21:13.407743Z",
     "shell.execute_reply.started": "2023-01-18T13:24:27.208409Z"
    },
    "papermill": {
     "duration": 0.071298,
     "end_time": "2023-01-18T14:21:13.407958",
     "exception": false,
     "start_time": "2023-01-18T14:21:13.336660",
     "status": "completed"
    },
    "tags": []
   },
   "outputs": [],
   "source": [
    "exclude = string.punctuation"
   ]
  },
  {
   "cell_type": "code",
   "execution_count": 21,
   "id": "11e3f5b0",
   "metadata": {
    "execution": {
     "iopub.execute_input": "2023-01-18T14:21:13.539140Z",
     "iopub.status.busy": "2023-01-18T14:21:13.538398Z",
     "iopub.status.idle": "2023-01-18T14:21:13.541759Z",
     "shell.execute_reply": "2023-01-18T14:21:13.541189Z",
     "shell.execute_reply.started": "2023-01-18T13:24:29.690154Z"
    },
    "papermill": {
     "duration": 0.070902,
     "end_time": "2023-01-18T14:21:13.541938",
     "exception": false,
     "start_time": "2023-01-18T14:21:13.471036",
     "status": "completed"
    },
    "tags": []
   },
   "outputs": [],
   "source": [
    "def remove_punc(text):\n",
    "    for char in exclude:\n",
    "        text = text.replace(char,'')\n",
    "    return text\n",
    "        "
   ]
  },
  {
   "cell_type": "code",
   "execution_count": 22,
   "id": "cb2deee6",
   "metadata": {
    "execution": {
     "iopub.execute_input": "2023-01-18T14:21:13.671999Z",
     "iopub.status.busy": "2023-01-18T14:21:13.671310Z",
     "iopub.status.idle": "2023-01-18T14:21:13.674859Z",
     "shell.execute_reply": "2023-01-18T14:21:13.674243Z",
     "shell.execute_reply.started": "2023-01-18T13:24:31.046730Z"
    },
    "papermill": {
     "duration": 0.070987,
     "end_time": "2023-01-18T14:21:13.675057",
     "exception": false,
     "start_time": "2023-01-18T14:21:13.604070",
     "status": "completed"
    },
    "tags": []
   },
   "outputs": [],
   "source": [
    "text = 'string. With. Punctuation?'"
   ]
  },
  {
   "cell_type": "code",
   "execution_count": 30,
   "id": "765a961a",
   "metadata": {
    "execution": {
     "iopub.execute_input": "2023-01-18T14:21:13.808696Z",
     "iopub.status.busy": "2023-01-18T14:21:13.807844Z",
     "iopub.status.idle": "2023-01-18T14:21:13.812245Z",
     "shell.execute_reply": "2023-01-18T14:21:13.811547Z",
     "shell.execute_reply.started": "2023-01-18T13:24:34.527263Z"
    },
    "papermill": {
     "duration": 0.074943,
     "end_time": "2023-01-18T14:21:13.812408",
     "exception": false,
     "start_time": "2023-01-18T14:21:13.737465",
     "status": "completed"
    },
    "tags": []
   },
   "outputs": [
    {
     "name": "stdout",
     "output_type": "stream",
     "text": [
      "string With Punctuation\n",
      "0.0\n"
     ]
    }
   ],
   "source": [
    "start = time.time()\n",
    "print(remove_punc(text))\n",
    "time1 = time.time() - start\n",
    "print(time1)"
   ]
  },
  {
   "cell_type": "code",
   "execution_count": 25,
   "id": "188ea516",
   "metadata": {
    "execution": {
     "iopub.execute_input": "2023-01-18T14:21:13.953487Z",
     "iopub.status.busy": "2023-01-18T14:21:13.952398Z",
     "iopub.status.idle": "2023-01-18T14:21:13.954313Z",
     "shell.execute_reply": "2023-01-18T14:21:13.954859Z",
     "shell.execute_reply.started": "2023-01-18T13:24:38.955344Z"
    },
    "papermill": {
     "duration": 0.076996,
     "end_time": "2023-01-18T14:21:13.955081",
     "exception": false,
     "start_time": "2023-01-18T14:21:13.878085",
     "status": "completed"
    },
    "tags": []
   },
   "outputs": [],
   "source": [
    "def remove_punc1(text):\n",
    "    return text.translate(str.maketrans('', '', exclude))"
   ]
  },
  {
   "cell_type": "code",
   "execution_count": 27,
   "id": "df111262",
   "metadata": {
    "execution": {
     "iopub.execute_input": "2023-01-18T14:21:14.089055Z",
     "iopub.status.busy": "2023-01-18T14:21:14.088226Z",
     "iopub.status.idle": "2023-01-18T14:21:14.091468Z",
     "shell.execute_reply": "2023-01-18T14:21:14.091958Z",
     "shell.execute_reply.started": "2023-01-18T13:24:42.402366Z"
    },
    "papermill": {
     "duration": 0.072132,
     "end_time": "2023-01-18T14:21:14.092153",
     "exception": false,
     "start_time": "2023-01-18T14:21:14.020021",
     "status": "completed"
    },
    "tags": []
   },
   "outputs": [
    {
     "name": "stdout",
     "output_type": "stream",
     "text": [
      "0.0010030269622802734\n"
     ]
    }
   ],
   "source": [
    "start = time.time()\n",
    "remove_punc1(text)\n",
    "time2 = time.time() - start\n",
    "print(time2)"
   ]
  },
  {
   "cell_type": "code",
   "execution_count": 23,
   "id": "a45689a9",
   "metadata": {
    "execution": {
     "iopub.execute_input": "2023-01-18T14:21:14.227495Z",
     "iopub.status.busy": "2023-01-18T14:21:14.226646Z",
     "iopub.status.idle": "2023-01-18T14:21:14.230585Z",
     "shell.execute_reply": "2023-01-18T14:21:14.229938Z",
     "shell.execute_reply.started": "2023-01-18T13:24:45.215475Z"
    },
    "papermill": {
     "duration": 0.072625,
     "end_time": "2023-01-18T14:21:14.230752",
     "exception": false,
     "start_time": "2023-01-18T14:21:14.158127",
     "status": "completed"
    },
    "tags": []
   },
   "outputs": [
    {
     "data": {
      "text/plain": [
       "1.8077753779697625"
      ]
     },
     "execution_count": 23,
     "metadata": {},
     "output_type": "execute_result"
    }
   ],
   "source": [
    "time1/time2"
   ]
  },
  {
   "cell_type": "code",
   "execution_count": 31,
   "id": "7094e25d",
   "metadata": {
    "execution": {
     "iopub.execute_input": "2023-01-18T14:21:14.374235Z",
     "iopub.status.busy": "2023-01-18T14:21:14.373216Z",
     "iopub.status.idle": "2023-01-18T14:21:14.376557Z",
     "shell.execute_reply": "2023-01-18T14:21:14.377209Z",
     "shell.execute_reply.started": "2023-01-18T13:24:48.071400Z"
    },
    "papermill": {
     "duration": 0.077307,
     "end_time": "2023-01-18T14:21:14.377405",
     "exception": false,
     "start_time": "2023-01-18T14:21:14.300098",
     "status": "completed"
    },
    "tags": []
   },
   "outputs": [
    {
     "data": {
      "text/plain": [
       "\"a terrible movie as everyone has said. what made me laugh was the cameo appearance by scott mcnealy, giving an award to one of the murdered programmers in front of a wall of sun logos. mcnealy is the ceo of sun microsystem, a company that practically defines itself by its hatred of microsoft. they have been instrumental in filing antitrust complaints against microsoft. so, were they silly enough to think this bad movie would add fuel to that fire?there's no public record i see of sun's involvement, but clearly the makers of this movie know scott mcnealy. an interesting mystery.\""
      ]
     },
     "execution_count": 31,
     "metadata": {},
     "output_type": "execute_result"
    }
   ],
   "source": [
    "df['review'][5]"
   ]
  },
  {
   "cell_type": "code",
   "execution_count": 32,
   "id": "c65eeb2e",
   "metadata": {
    "execution": {
     "iopub.execute_input": "2023-01-18T14:21:14.516729Z",
     "iopub.status.busy": "2023-01-18T14:21:14.515823Z",
     "iopub.status.idle": "2023-01-18T14:21:14.519481Z",
     "shell.execute_reply": "2023-01-18T14:21:14.520020Z",
     "shell.execute_reply.started": "2023-01-18T13:24:51.126086Z"
    },
    "papermill": {
     "duration": 0.07609,
     "end_time": "2023-01-18T14:21:14.520213",
     "exception": false,
     "start_time": "2023-01-18T14:21:14.444123",
     "status": "completed"
    },
    "tags": []
   },
   "outputs": [
    {
     "data": {
      "text/plain": [
       "'a terrible movie as everyone has said what made me laugh was the cameo appearance by scott mcnealy giving an award to one of the murdered programmers in front of a wall of sun logos mcnealy is the ceo of sun microsystem a company that practically defines itself by its hatred of microsoft they have been instrumental in filing antitrust complaints against microsoft so were they silly enough to think this bad movie would add fuel to that firetheres no public record i see of suns involvement but clearly the makers of this movie know scott mcnealy an interesting mystery'"
      ]
     },
     "execution_count": 32,
     "metadata": {},
     "output_type": "execute_result"
    }
   ],
   "source": [
    "remove_punc1(df['review'][5])"
   ]
  },
  {
   "cell_type": "markdown",
   "id": "2bb29a2a",
   "metadata": {
    "papermill": {
     "duration": 0.065932,
     "end_time": "2023-01-18T14:21:14.652380",
     "exception": false,
     "start_time": "2023-01-18T14:21:14.586448",
     "status": "completed"
    },
    "tags": []
   },
   "source": [
    "# Chat Words Treatment "
   ]
  },
  {
   "cell_type": "code",
   "execution_count": 34,
   "id": "513ccd53",
   "metadata": {
    "execution": {
     "iopub.execute_input": "2023-01-18T14:21:14.795684Z",
     "iopub.status.busy": "2023-01-18T14:21:14.794550Z",
     "iopub.status.idle": "2023-01-18T14:21:14.797957Z",
     "shell.execute_reply": "2023-01-18T14:21:14.797135Z",
     "shell.execute_reply.started": "2023-01-18T13:27:50.854242Z"
    },
    "papermill": {
     "duration": 0.075419,
     "end_time": "2023-01-18T14:21:14.798129",
     "exception": false,
     "start_time": "2023-01-18T14:21:14.722710",
     "status": "completed"
    },
    "tags": []
   },
   "outputs": [],
   "source": [
    "chat_words_str = \"\"\"\n",
    "AFAIK=As Far As I Know\n",
    "AFK=Away From Keyboard\n",
    "ASAP=As Soon As Possible\n",
    "ATK=At The Keyboard\n",
    "ATM=At The Moment\n",
    "A3=Anytime, Anywhere, Anyplace\n",
    "BAK=Back At Keyboard\n",
    "BBL=Be Back Later\n",
    "BBS=Be Back Soon\n",
    "BFN=Bye For Now\n",
    "B4N=Bye For Now\n",
    "BRB=Be Right Back\n",
    "BRT=Be Right There\n",
    "BTW=By The Way\n",
    "B4=Before\n",
    "B4N=Bye For Now\n",
    "CU=See You\n",
    "CUL8R=See You Later\n",
    "CYA=See You\n",
    "FAQ=Frequently Asked Questions\n",
    "FC=Fingers Crossed\n",
    "FWIW=For What It's Worth\n",
    "FYI=For Your Information\n",
    "GAL=Get A Life\n",
    "GG=Good Game\n",
    "GN=Good Night\n",
    "GMTA=Great Minds Think Alike\n",
    "GR8=Great!\n",
    "G9=Genius\n",
    "IC=I See\n",
    "ICQ=I Seek you (also a chat program)\n",
    "ILU=ILU: I Love You\n",
    "IMHO=In My Honest/Humble Opinion\n",
    "IMO=In My Opinion\n",
    "IOW=In Other Words\n",
    "IRL=In Real Life\n",
    "KISS=Keep It Simple, Stupid\n",
    "LDR=Long Distance Relationship\n",
    "LMAO=Laugh My A.. Off\n",
    "LOL=Laughing Out Loud\n",
    "LTNS=Long Time No See\n",
    "L8R=Later\n",
    "MTE=My Thoughts Exactly\n",
    "M8=Mate\n",
    "NRN=No Reply Necessary\n",
    "OIC=Oh I See\n",
    "PITA=Pain In The A..\n",
    "PRT=Party\n",
    "PRW=Parents Are Watching\n",
    "ROFL=Rolling On The Floor Laughing\n",
    "ROFLOL=Rolling On The Floor Laughing Out Loud\n",
    "ROTFLMAO=Rolling On The Floor Laughing My A.. Off\n",
    "SK8=Skate\n",
    "STATS=Your sex and age\n",
    "ASL=Age, Sex, Location\n",
    "THX=Thank You\n",
    "TTFN=Ta-Ta For Now!\n",
    "TTYL=Talk To You Later\n",
    "U=You\n",
    "U2=You Too\n",
    "U4E=Yours For Ever\n",
    "WB=Welcome Back\n",
    "WTF=What The F...\n",
    "WTG=Way To Go!\n",
    "WUF=Where Are You From?\n",
    "W8=Wait...\n",
    "7K=Sick:-D Laugher\n",
    "\"\"\""
   ]
  },
  {
   "cell_type": "code",
   "execution_count": 35,
   "id": "06049668",
   "metadata": {
    "execution": {
     "iopub.execute_input": "2023-01-18T14:21:14.939492Z",
     "iopub.status.busy": "2023-01-18T14:21:14.938437Z",
     "iopub.status.idle": "2023-01-18T14:21:14.941301Z",
     "shell.execute_reply": "2023-01-18T14:21:14.940684Z",
     "shell.execute_reply.started": "2023-01-18T13:28:37.131814Z"
    },
    "papermill": {
     "duration": 0.076671,
     "end_time": "2023-01-18T14:21:14.941471",
     "exception": false,
     "start_time": "2023-01-18T14:21:14.864800",
     "status": "completed"
    },
    "tags": []
   },
   "outputs": [],
   "source": [
    "chat_words_list = []\n",
    "chat_words_map_dict = {}\n",
    "for line in chat_words_str.split(\"\\n\"):\n",
    "    if line != \"\":\n",
    "        cw = line.split(\"=\")[0]\n",
    "        cw_expanded = line.split(\"=\")[1]\n",
    "        chat_words_list.append(cw)\n",
    "        chat_words_map_dict[cw] = cw_expanded\n",
    "chat_words_list = set(chat_words_list)"
   ]
  },
  {
   "cell_type": "code",
   "execution_count": 36,
   "id": "fc262cb9",
   "metadata": {
    "execution": {
     "iopub.execute_input": "2023-01-18T14:21:15.076606Z",
     "iopub.status.busy": "2023-01-18T14:21:15.075801Z",
     "iopub.status.idle": "2023-01-18T14:21:15.081621Z",
     "shell.execute_reply": "2023-01-18T14:21:15.081014Z",
     "shell.execute_reply.started": "2023-01-18T13:29:12.640366Z"
    },
    "papermill": {
     "duration": 0.074308,
     "end_time": "2023-01-18T14:21:15.081779",
     "exception": false,
     "start_time": "2023-01-18T14:21:15.007471",
     "status": "completed"
    },
    "tags": []
   },
   "outputs": [],
   "source": [
    "def chat_words_conversion(text):\n",
    "    new_text = []\n",
    "    for w in text.split():\n",
    "        if w.upper() in chat_words_list:\n",
    "            new_text.append(chat_words_map_dict[w.upper()])\n",
    "        else:\n",
    "            new_text.append(w)\n",
    "    return \" \".join(new_text)"
   ]
  },
  {
   "cell_type": "code",
   "execution_count": 37,
   "id": "a7184c2f",
   "metadata": {
    "execution": {
     "iopub.execute_input": "2023-01-18T14:21:15.220447Z",
     "iopub.status.busy": "2023-01-18T14:21:15.219580Z",
     "iopub.status.idle": "2023-01-18T14:21:15.222449Z",
     "shell.execute_reply": "2023-01-18T14:21:15.222983Z",
     "shell.execute_reply.started": "2023-01-18T13:29:15.740907Z"
    },
    "papermill": {
     "duration": 0.077276,
     "end_time": "2023-01-18T14:21:15.223202",
     "exception": false,
     "start_time": "2023-01-18T14:21:15.145926",
     "status": "completed"
    },
    "tags": []
   },
   "outputs": [
    {
     "data": {
      "text/plain": [
       "'In My Opinion this is awesome'"
      ]
     },
     "execution_count": 37,
     "metadata": {},
     "output_type": "execute_result"
    }
   ],
   "source": [
    "chat_words_conversion(\"imo this is awesome\")"
   ]
  },
  {
   "cell_type": "code",
   "execution_count": 38,
   "id": "8c1fc523",
   "metadata": {
    "execution": {
     "iopub.execute_input": "2023-01-18T14:21:15.364558Z",
     "iopub.status.busy": "2023-01-18T14:21:15.363810Z",
     "iopub.status.idle": "2023-01-18T14:21:15.369015Z",
     "shell.execute_reply": "2023-01-18T14:21:15.369583Z",
     "shell.execute_reply.started": "2023-01-18T13:29:42.559547Z"
    },
    "papermill": {
     "duration": 0.077013,
     "end_time": "2023-01-18T14:21:15.369788",
     "exception": false,
     "start_time": "2023-01-18T14:21:15.292775",
     "status": "completed"
    },
    "tags": []
   },
   "outputs": [
    {
     "data": {
      "text/plain": [
       "'In My Honest/Humble Opinion he is the best'"
      ]
     },
     "execution_count": 38,
     "metadata": {},
     "output_type": "execute_result"
    }
   ],
   "source": [
    "chat_words_conversion('IMHO he is the best')"
   ]
  },
  {
   "cell_type": "code",
   "execution_count": 39,
   "id": "fdbaf007",
   "metadata": {
    "execution": {
     "iopub.execute_input": "2023-01-18T14:21:15.507044Z",
     "iopub.status.busy": "2023-01-18T14:21:15.506282Z",
     "iopub.status.idle": "2023-01-18T14:21:15.511019Z",
     "shell.execute_reply": "2023-01-18T14:21:15.511527Z",
     "shell.execute_reply.started": "2023-01-18T13:29:53.392366Z"
    },
    "papermill": {
     "duration": 0.075427,
     "end_time": "2023-01-18T14:21:15.511761",
     "exception": false,
     "start_time": "2023-01-18T14:21:15.436334",
     "status": "completed"
    },
    "tags": []
   },
   "outputs": [
    {
     "data": {
      "text/plain": [
       "'For Your Information delhi is the capital of india'"
      ]
     },
     "execution_count": 39,
     "metadata": {},
     "output_type": "execute_result"
    }
   ],
   "source": [
    "chat_words_conversion('FYI delhi is the capital of india')"
   ]
  },
  {
   "cell_type": "markdown",
   "id": "2da35955",
   "metadata": {
    "papermill": {
     "duration": 0.067882,
     "end_time": "2023-01-18T14:21:15.646506",
     "exception": false,
     "start_time": "2023-01-18T14:21:15.578624",
     "status": "completed"
    },
    "tags": []
   },
   "source": [
    "# Spelling Correction"
   ]
  },
  {
   "cell_type": "code",
   "execution_count": 42,
   "id": "61f6987a",
   "metadata": {
    "execution": {
     "iopub.execute_input": "2023-01-18T14:21:15.784770Z",
     "iopub.status.busy": "2023-01-18T14:21:15.784060Z",
     "iopub.status.idle": "2023-01-18T14:21:17.635825Z",
     "shell.execute_reply": "2023-01-18T14:21:17.635227Z",
     "shell.execute_reply.started": "2023-01-18T13:41:48.037113Z"
    },
    "papermill": {
     "duration": 1.924166,
     "end_time": "2023-01-18T14:21:17.636018",
     "exception": false,
     "start_time": "2023-01-18T14:21:15.711852",
     "status": "completed"
    },
    "tags": []
   },
   "outputs": [],
   "source": [
    "from textblob import TextBlob"
   ]
  },
  {
   "cell_type": "code",
   "execution_count": 43,
   "id": "7d0c41df",
   "metadata": {
    "execution": {
     "iopub.execute_input": "2023-01-18T14:21:17.774676Z",
     "iopub.status.busy": "2023-01-18T14:21:17.773811Z",
     "iopub.status.idle": "2023-01-18T14:21:17.847353Z",
     "shell.execute_reply": "2023-01-18T14:21:17.846767Z",
     "shell.execute_reply.started": "2023-01-18T13:42:36.505525Z"
    },
    "papermill": {
     "duration": 0.144702,
     "end_time": "2023-01-18T14:21:17.847514",
     "exception": false,
     "start_time": "2023-01-18T14:21:17.702812",
     "status": "completed"
    },
    "tags": []
   },
   "outputs": [
    {
     "data": {
      "text/plain": [
       "'certain conditions during several generations are modified in the same manner.'"
      ]
     },
     "execution_count": 43,
     "metadata": {},
     "output_type": "execute_result"
    }
   ],
   "source": [
    "incorrect_text = 'ceertain conditionas duriing seveal ggenerations aree moodified in the saame maner.'\n",
    "\n",
    "textBlb = TextBlob(incorrect_text)\n",
    "\n",
    "textBlb.correct().string"
   ]
  },
  {
   "cell_type": "markdown",
   "id": "f910284d",
   "metadata": {
    "papermill": {
     "duration": 0.066638,
     "end_time": "2023-01-18T14:21:17.980483",
     "exception": false,
     "start_time": "2023-01-18T14:21:17.913845",
     "status": "completed"
    },
    "tags": []
   },
   "source": [
    "# Remove Stopwords "
   ]
  },
  {
   "cell_type": "code",
   "execution_count": 48,
   "id": "12a29e23",
   "metadata": {
    "execution": {
     "iopub.execute_input": "2023-01-18T14:21:18.122792Z",
     "iopub.status.busy": "2023-01-18T14:21:18.121616Z",
     "iopub.status.idle": "2023-01-18T14:21:18.126272Z",
     "shell.execute_reply": "2023-01-18T14:21:18.126871Z",
     "shell.execute_reply.started": "2023-01-18T13:43:27.130650Z"
    },
    "papermill": {
     "duration": 0.07975,
     "end_time": "2023-01-18T14:21:18.127166",
     "exception": false,
     "start_time": "2023-01-18T14:21:18.047416",
     "status": "completed"
    },
    "tags": []
   },
   "outputs": [
    {
     "name": "stderr",
     "output_type": "stream",
     "text": [
      "[nltk_data] Downloading package stopwords to\n",
      "[nltk_data]     C:\\Users\\bilal\\AppData\\Roaming\\nltk_data...\n",
      "[nltk_data]   Unzipping corpora\\stopwords.zip.\n"
     ]
    }
   ],
   "source": [
    "# Download the stopwords if not already downloaded\n",
    "import nltk\n",
    "nltk.download('stopwords')\n",
    "from nltk.corpus import stopwords"
   ]
  },
  {
   "cell_type": "code",
   "execution_count": 49,
   "id": "38e3e167",
   "metadata": {
    "execution": {
     "iopub.execute_input": "2023-01-18T14:21:18.264184Z",
     "iopub.status.busy": "2023-01-18T14:21:18.263189Z",
     "iopub.status.idle": "2023-01-18T14:21:18.283210Z",
     "shell.execute_reply": "2023-01-18T14:21:18.283718Z",
     "shell.execute_reply.started": "2023-01-18T13:43:32.340935Z"
    },
    "papermill": {
     "duration": 0.090317,
     "end_time": "2023-01-18T14:21:18.283953",
     "exception": false,
     "start_time": "2023-01-18T14:21:18.193636",
     "status": "completed"
    },
    "tags": []
   },
   "outputs": [
    {
     "data": {
      "text/plain": [
       "['i',\n",
       " 'me',\n",
       " 'my',\n",
       " 'myself',\n",
       " 'we',\n",
       " 'our',\n",
       " 'ours',\n",
       " 'ourselves',\n",
       " 'you',\n",
       " \"you're\",\n",
       " \"you've\",\n",
       " \"you'll\",\n",
       " \"you'd\",\n",
       " 'your',\n",
       " 'yours',\n",
       " 'yourself',\n",
       " 'yourselves',\n",
       " 'he',\n",
       " 'him',\n",
       " 'his',\n",
       " 'himself',\n",
       " 'she',\n",
       " \"she's\",\n",
       " 'her',\n",
       " 'hers',\n",
       " 'herself',\n",
       " 'it',\n",
       " \"it's\",\n",
       " 'its',\n",
       " 'itself',\n",
       " 'they',\n",
       " 'them',\n",
       " 'their',\n",
       " 'theirs',\n",
       " 'themselves',\n",
       " 'what',\n",
       " 'which',\n",
       " 'who',\n",
       " 'whom',\n",
       " 'this',\n",
       " 'that',\n",
       " \"that'll\",\n",
       " 'these',\n",
       " 'those',\n",
       " 'am',\n",
       " 'is',\n",
       " 'are',\n",
       " 'was',\n",
       " 'were',\n",
       " 'be',\n",
       " 'been',\n",
       " 'being',\n",
       " 'have',\n",
       " 'has',\n",
       " 'had',\n",
       " 'having',\n",
       " 'do',\n",
       " 'does',\n",
       " 'did',\n",
       " 'doing',\n",
       " 'a',\n",
       " 'an',\n",
       " 'the',\n",
       " 'and',\n",
       " 'but',\n",
       " 'if',\n",
       " 'or',\n",
       " 'because',\n",
       " 'as',\n",
       " 'until',\n",
       " 'while',\n",
       " 'of',\n",
       " 'at',\n",
       " 'by',\n",
       " 'for',\n",
       " 'with',\n",
       " 'about',\n",
       " 'against',\n",
       " 'between',\n",
       " 'into',\n",
       " 'through',\n",
       " 'during',\n",
       " 'before',\n",
       " 'after',\n",
       " 'above',\n",
       " 'below',\n",
       " 'to',\n",
       " 'from',\n",
       " 'up',\n",
       " 'down',\n",
       " 'in',\n",
       " 'out',\n",
       " 'on',\n",
       " 'off',\n",
       " 'over',\n",
       " 'under',\n",
       " 'again',\n",
       " 'further',\n",
       " 'then',\n",
       " 'once',\n",
       " 'here',\n",
       " 'there',\n",
       " 'when',\n",
       " 'where',\n",
       " 'why',\n",
       " 'how',\n",
       " 'all',\n",
       " 'any',\n",
       " 'both',\n",
       " 'each',\n",
       " 'few',\n",
       " 'more',\n",
       " 'most',\n",
       " 'other',\n",
       " 'some',\n",
       " 'such',\n",
       " 'no',\n",
       " 'nor',\n",
       " 'not',\n",
       " 'only',\n",
       " 'own',\n",
       " 'same',\n",
       " 'so',\n",
       " 'than',\n",
       " 'too',\n",
       " 'very',\n",
       " 's',\n",
       " 't',\n",
       " 'can',\n",
       " 'will',\n",
       " 'just',\n",
       " 'don',\n",
       " \"don't\",\n",
       " 'should',\n",
       " \"should've\",\n",
       " 'now',\n",
       " 'd',\n",
       " 'll',\n",
       " 'm',\n",
       " 'o',\n",
       " 're',\n",
       " 've',\n",
       " 'y',\n",
       " 'ain',\n",
       " 'aren',\n",
       " \"aren't\",\n",
       " 'couldn',\n",
       " \"couldn't\",\n",
       " 'didn',\n",
       " \"didn't\",\n",
       " 'doesn',\n",
       " \"doesn't\",\n",
       " 'hadn',\n",
       " \"hadn't\",\n",
       " 'hasn',\n",
       " \"hasn't\",\n",
       " 'haven',\n",
       " \"haven't\",\n",
       " 'isn',\n",
       " \"isn't\",\n",
       " 'ma',\n",
       " 'mightn',\n",
       " \"mightn't\",\n",
       " 'mustn',\n",
       " \"mustn't\",\n",
       " 'needn',\n",
       " \"needn't\",\n",
       " 'shan',\n",
       " \"shan't\",\n",
       " 'shouldn',\n",
       " \"shouldn't\",\n",
       " 'wasn',\n",
       " \"wasn't\",\n",
       " 'weren',\n",
       " \"weren't\",\n",
       " 'won',\n",
       " \"won't\",\n",
       " 'wouldn',\n",
       " \"wouldn't\"]"
      ]
     },
     "execution_count": 49,
     "metadata": {},
     "output_type": "execute_result"
    }
   ],
   "source": [
    "stopwords.words('english')"
   ]
  },
  {
   "cell_type": "code",
   "execution_count": 50,
   "id": "20878f77",
   "metadata": {
    "execution": {
     "iopub.execute_input": "2023-01-18T14:21:18.424645Z",
     "iopub.status.busy": "2023-01-18T14:21:18.423529Z",
     "iopub.status.idle": "2023-01-18T14:21:18.429332Z",
     "shell.execute_reply": "2023-01-18T14:21:18.429975Z",
     "shell.execute_reply.started": "2023-01-18T13:43:37.772658Z"
    },
    "papermill": {
     "duration": 0.077201,
     "end_time": "2023-01-18T14:21:18.430201",
     "exception": false,
     "start_time": "2023-01-18T14:21:18.353000",
     "status": "completed"
    },
    "tags": []
   },
   "outputs": [],
   "source": [
    "def remove_stopwords(text):\n",
    "    new_text = []\n",
    "    \n",
    "    for word in text.split():\n",
    "        if word in stopwords.words('english'):\n",
    "            new_text.append('')\n",
    "        else:\n",
    "            new_text.append(word)\n",
    "    x = new_text[:]\n",
    "    new_text.clear()\n",
    "    return \" \".join(x)"
   ]
  },
  {
   "cell_type": "code",
   "execution_count": 51,
   "id": "556f948b",
   "metadata": {
    "execution": {
     "iopub.execute_input": "2023-01-18T14:21:18.571304Z",
     "iopub.status.busy": "2023-01-18T14:21:18.570148Z",
     "iopub.status.idle": "2023-01-18T14:21:18.581394Z",
     "shell.execute_reply": "2023-01-18T14:21:18.582022Z",
     "shell.execute_reply.started": "2023-01-18T13:43:40.809408Z"
    },
    "papermill": {
     "duration": 0.08362,
     "end_time": "2023-01-18T14:21:18.582218",
     "exception": false,
     "start_time": "2023-01-18T14:21:18.498598",
     "status": "completed"
    },
    "tags": []
   },
   "outputs": [
    {
     "data": {
      "text/plain": [
       "'probably  all-time favorite movie,  story  selflessness, sacrifice  dedication   noble cause,    preachy  boring.   never gets old, despite   seen   15   times'"
      ]
     },
     "execution_count": 51,
     "metadata": {},
     "output_type": "execute_result"
    }
   ],
   "source": [
    "remove_stopwords('probably my all-time favorite movie, a story of selflessness, sacrifice and dedication to a noble cause, but it\\'s not preachy or boring. it just never gets old, despite my having seen it some 15 or more times')"
   ]
  },
  {
   "cell_type": "code",
   "execution_count": 52,
   "id": "f4cd951f",
   "metadata": {
    "execution": {
     "iopub.execute_input": "2023-01-18T14:21:18.720694Z",
     "iopub.status.busy": "2023-01-18T14:21:18.719619Z",
     "iopub.status.idle": "2023-01-18T14:21:18.729311Z",
     "shell.execute_reply": "2023-01-18T14:21:18.729958Z",
     "shell.execute_reply.started": "2023-01-18T13:43:44.359671Z"
    },
    "papermill": {
     "duration": 0.080835,
     "end_time": "2023-01-18T14:21:18.730165",
     "exception": false,
     "start_time": "2023-01-18T14:21:18.649330",
     "status": "completed"
    },
    "tags": []
   },
   "outputs": [
    {
     "data": {
      "text/html": [
       "<div>\n",
       "<style scoped>\n",
       "    .dataframe tbody tr th:only-of-type {\n",
       "        vertical-align: middle;\n",
       "    }\n",
       "\n",
       "    .dataframe tbody tr th {\n",
       "        vertical-align: top;\n",
       "    }\n",
       "\n",
       "    .dataframe thead th {\n",
       "        text-align: right;\n",
       "    }\n",
       "</style>\n",
       "<table border=\"1\" class=\"dataframe\">\n",
       "  <thead>\n",
       "    <tr style=\"text-align: right;\">\n",
       "      <th></th>\n",
       "      <th>review</th>\n",
       "      <th>sentiment</th>\n",
       "    </tr>\n",
       "  </thead>\n",
       "  <tbody>\n",
       "    <tr>\n",
       "      <th>0</th>\n",
       "      <td>i grew up (b. 1965) watching and loving the th...</td>\n",
       "      <td>negative</td>\n",
       "    </tr>\n",
       "    <tr>\n",
       "      <th>1</th>\n",
       "      <td>when i put this movie in my dvd player, and sa...</td>\n",
       "      <td>negative</td>\n",
       "    </tr>\n",
       "    <tr>\n",
       "      <th>2</th>\n",
       "      <td>why do people who do not know what a particula...</td>\n",
       "      <td>negative</td>\n",
       "    </tr>\n",
       "    <tr>\n",
       "      <th>3</th>\n",
       "      <td>even though i have great interest in biblical ...</td>\n",
       "      <td>negative</td>\n",
       "    </tr>\n",
       "    <tr>\n",
       "      <th>4</th>\n",
       "      <td>im a die hard dads army fan and nothing will e...</td>\n",
       "      <td>positive</td>\n",
       "    </tr>\n",
       "  </tbody>\n",
       "</table>\n",
       "</div>"
      ],
      "text/plain": [
       "                                              review sentiment\n",
       "0  i grew up (b. 1965) watching and loving the th...  negative\n",
       "1  when i put this movie in my dvd player, and sa...  negative\n",
       "2  why do people who do not know what a particula...  negative\n",
       "3  even though i have great interest in biblical ...  negative\n",
       "4  im a die hard dads army fan and nothing will e...  positive"
      ]
     },
     "execution_count": 52,
     "metadata": {},
     "output_type": "execute_result"
    }
   ],
   "source": [
    "df.head()"
   ]
  },
  {
   "cell_type": "code",
   "execution_count": 54,
   "id": "b026f68d",
   "metadata": {
    "execution": {
     "iopub.execute_input": "2023-01-18T14:21:18.868959Z",
     "iopub.status.busy": "2023-01-18T14:21:18.867830Z",
     "iopub.status.idle": "2023-01-18T14:21:18.871169Z",
     "shell.execute_reply": "2023-01-18T14:21:18.871777Z",
     "shell.execute_reply.started": "2023-01-18T13:44:55.865568Z"
    },
    "papermill": {
     "duration": 0.074288,
     "end_time": "2023-01-18T14:21:18.871993",
     "exception": false,
     "start_time": "2023-01-18T14:21:18.797705",
     "status": "completed"
    },
    "tags": []
   },
   "outputs": [
    {
     "ename": "KeyboardInterrupt",
     "evalue": "",
     "output_type": "error",
     "traceback": [
      "\u001b[1;31m---------------------------------------------------------------------------\u001b[0m",
      "\u001b[1;31mKeyboardInterrupt\u001b[0m                         Traceback (most recent call last)",
      "Cell \u001b[1;32mIn[54], line 1\u001b[0m\n\u001b[1;32m----> 1\u001b[0m \u001b[43mdf\u001b[49m\u001b[43m[\u001b[49m\u001b[38;5;124;43m'\u001b[39;49m\u001b[38;5;124;43mreview\u001b[39;49m\u001b[38;5;124;43m'\u001b[39;49m\u001b[43m]\u001b[49m\u001b[38;5;241;43m.\u001b[39;49m\u001b[43mapply\u001b[49m\u001b[43m(\u001b[49m\u001b[43mremove_stopwords\u001b[49m\u001b[43m)\u001b[49m\n",
      "File \u001b[1;32mc:\\Python312\\Lib\\site-packages\\pandas\\core\\series.py:4924\u001b[0m, in \u001b[0;36mSeries.apply\u001b[1;34m(self, func, convert_dtype, args, by_row, **kwargs)\u001b[0m\n\u001b[0;32m   4789\u001b[0m \u001b[38;5;28;01mdef\u001b[39;00m \u001b[38;5;21mapply\u001b[39m(\n\u001b[0;32m   4790\u001b[0m     \u001b[38;5;28mself\u001b[39m,\n\u001b[0;32m   4791\u001b[0m     func: AggFuncType,\n\u001b[1;32m   (...)\u001b[0m\n\u001b[0;32m   4796\u001b[0m     \u001b[38;5;241m*\u001b[39m\u001b[38;5;241m*\u001b[39mkwargs,\n\u001b[0;32m   4797\u001b[0m ) \u001b[38;5;241m-\u001b[39m\u001b[38;5;241m>\u001b[39m DataFrame \u001b[38;5;241m|\u001b[39m Series:\n\u001b[0;32m   4798\u001b[0m \u001b[38;5;250m    \u001b[39m\u001b[38;5;124;03m\"\"\"\u001b[39;00m\n\u001b[0;32m   4799\u001b[0m \u001b[38;5;124;03m    Invoke function on values of Series.\u001b[39;00m\n\u001b[0;32m   4800\u001b[0m \n\u001b[1;32m   (...)\u001b[0m\n\u001b[0;32m   4915\u001b[0m \u001b[38;5;124;03m    dtype: float64\u001b[39;00m\n\u001b[0;32m   4916\u001b[0m \u001b[38;5;124;03m    \"\"\"\u001b[39;00m\n\u001b[0;32m   4917\u001b[0m     \u001b[38;5;28;01mreturn\u001b[39;00m \u001b[43mSeriesApply\u001b[49m\u001b[43m(\u001b[49m\n\u001b[0;32m   4918\u001b[0m \u001b[43m        \u001b[49m\u001b[38;5;28;43mself\u001b[39;49m\u001b[43m,\u001b[49m\n\u001b[0;32m   4919\u001b[0m \u001b[43m        \u001b[49m\u001b[43mfunc\u001b[49m\u001b[43m,\u001b[49m\n\u001b[0;32m   4920\u001b[0m \u001b[43m        \u001b[49m\u001b[43mconvert_dtype\u001b[49m\u001b[38;5;241;43m=\u001b[39;49m\u001b[43mconvert_dtype\u001b[49m\u001b[43m,\u001b[49m\n\u001b[0;32m   4921\u001b[0m \u001b[43m        \u001b[49m\u001b[43mby_row\u001b[49m\u001b[38;5;241;43m=\u001b[39;49m\u001b[43mby_row\u001b[49m\u001b[43m,\u001b[49m\n\u001b[0;32m   4922\u001b[0m \u001b[43m        \u001b[49m\u001b[43margs\u001b[49m\u001b[38;5;241;43m=\u001b[39;49m\u001b[43margs\u001b[49m\u001b[43m,\u001b[49m\n\u001b[0;32m   4923\u001b[0m \u001b[43m        \u001b[49m\u001b[43mkwargs\u001b[49m\u001b[38;5;241;43m=\u001b[39;49m\u001b[43mkwargs\u001b[49m\u001b[43m,\u001b[49m\n\u001b[1;32m-> 4924\u001b[0m \u001b[43m    \u001b[49m\u001b[43m)\u001b[49m\u001b[38;5;241;43m.\u001b[39;49m\u001b[43mapply\u001b[49m\u001b[43m(\u001b[49m\u001b[43m)\u001b[49m\n",
      "File \u001b[1;32mc:\\Python312\\Lib\\site-packages\\pandas\\core\\apply.py:1427\u001b[0m, in \u001b[0;36mSeriesApply.apply\u001b[1;34m(self)\u001b[0m\n\u001b[0;32m   1424\u001b[0m     \u001b[38;5;28;01mreturn\u001b[39;00m \u001b[38;5;28mself\u001b[39m\u001b[38;5;241m.\u001b[39mapply_compat()\n\u001b[0;32m   1426\u001b[0m \u001b[38;5;66;03m# self.func is Callable\u001b[39;00m\n\u001b[1;32m-> 1427\u001b[0m \u001b[38;5;28;01mreturn\u001b[39;00m \u001b[38;5;28;43mself\u001b[39;49m\u001b[38;5;241;43m.\u001b[39;49m\u001b[43mapply_standard\u001b[49m\u001b[43m(\u001b[49m\u001b[43m)\u001b[49m\n",
      "File \u001b[1;32mc:\\Python312\\Lib\\site-packages\\pandas\\core\\apply.py:1507\u001b[0m, in \u001b[0;36mSeriesApply.apply_standard\u001b[1;34m(self)\u001b[0m\n\u001b[0;32m   1501\u001b[0m \u001b[38;5;66;03m# row-wise access\u001b[39;00m\n\u001b[0;32m   1502\u001b[0m \u001b[38;5;66;03m# apply doesn't have a `na_action` keyword and for backward compat reasons\u001b[39;00m\n\u001b[0;32m   1503\u001b[0m \u001b[38;5;66;03m# we need to give `na_action=\"ignore\"` for categorical data.\u001b[39;00m\n\u001b[0;32m   1504\u001b[0m \u001b[38;5;66;03m# TODO: remove the `na_action=\"ignore\"` when that default has been changed in\u001b[39;00m\n\u001b[0;32m   1505\u001b[0m \u001b[38;5;66;03m#  Categorical (GH51645).\u001b[39;00m\n\u001b[0;32m   1506\u001b[0m action \u001b[38;5;241m=\u001b[39m \u001b[38;5;124m\"\u001b[39m\u001b[38;5;124mignore\u001b[39m\u001b[38;5;124m\"\u001b[39m \u001b[38;5;28;01mif\u001b[39;00m \u001b[38;5;28misinstance\u001b[39m(obj\u001b[38;5;241m.\u001b[39mdtype, CategoricalDtype) \u001b[38;5;28;01melse\u001b[39;00m \u001b[38;5;28;01mNone\u001b[39;00m\n\u001b[1;32m-> 1507\u001b[0m mapped \u001b[38;5;241m=\u001b[39m \u001b[43mobj\u001b[49m\u001b[38;5;241;43m.\u001b[39;49m\u001b[43m_map_values\u001b[49m\u001b[43m(\u001b[49m\n\u001b[0;32m   1508\u001b[0m \u001b[43m    \u001b[49m\u001b[43mmapper\u001b[49m\u001b[38;5;241;43m=\u001b[39;49m\u001b[43mcurried\u001b[49m\u001b[43m,\u001b[49m\u001b[43m \u001b[49m\u001b[43mna_action\u001b[49m\u001b[38;5;241;43m=\u001b[39;49m\u001b[43maction\u001b[49m\u001b[43m,\u001b[49m\u001b[43m \u001b[49m\u001b[43mconvert\u001b[49m\u001b[38;5;241;43m=\u001b[39;49m\u001b[38;5;28;43mself\u001b[39;49m\u001b[38;5;241;43m.\u001b[39;49m\u001b[43mconvert_dtype\u001b[49m\n\u001b[0;32m   1509\u001b[0m \u001b[43m\u001b[49m\u001b[43m)\u001b[49m\n\u001b[0;32m   1511\u001b[0m \u001b[38;5;28;01mif\u001b[39;00m \u001b[38;5;28mlen\u001b[39m(mapped) \u001b[38;5;129;01mand\u001b[39;00m \u001b[38;5;28misinstance\u001b[39m(mapped[\u001b[38;5;241m0\u001b[39m], ABCSeries):\n\u001b[0;32m   1512\u001b[0m     \u001b[38;5;66;03m# GH#43986 Need to do list(mapped) in order to get treated as nested\u001b[39;00m\n\u001b[0;32m   1513\u001b[0m     \u001b[38;5;66;03m#  See also GH#25959 regarding EA support\u001b[39;00m\n\u001b[0;32m   1514\u001b[0m     \u001b[38;5;28;01mreturn\u001b[39;00m obj\u001b[38;5;241m.\u001b[39m_constructor_expanddim(\u001b[38;5;28mlist\u001b[39m(mapped), index\u001b[38;5;241m=\u001b[39mobj\u001b[38;5;241m.\u001b[39mindex)\n",
      "File \u001b[1;32mc:\\Python312\\Lib\\site-packages\\pandas\\core\\base.py:921\u001b[0m, in \u001b[0;36mIndexOpsMixin._map_values\u001b[1;34m(self, mapper, na_action, convert)\u001b[0m\n\u001b[0;32m    918\u001b[0m \u001b[38;5;28;01mif\u001b[39;00m \u001b[38;5;28misinstance\u001b[39m(arr, ExtensionArray):\n\u001b[0;32m    919\u001b[0m     \u001b[38;5;28;01mreturn\u001b[39;00m arr\u001b[38;5;241m.\u001b[39mmap(mapper, na_action\u001b[38;5;241m=\u001b[39mna_action)\n\u001b[1;32m--> 921\u001b[0m \u001b[38;5;28;01mreturn\u001b[39;00m \u001b[43malgorithms\u001b[49m\u001b[38;5;241;43m.\u001b[39;49m\u001b[43mmap_array\u001b[49m\u001b[43m(\u001b[49m\u001b[43marr\u001b[49m\u001b[43m,\u001b[49m\u001b[43m \u001b[49m\u001b[43mmapper\u001b[49m\u001b[43m,\u001b[49m\u001b[43m \u001b[49m\u001b[43mna_action\u001b[49m\u001b[38;5;241;43m=\u001b[39;49m\u001b[43mna_action\u001b[49m\u001b[43m,\u001b[49m\u001b[43m \u001b[49m\u001b[43mconvert\u001b[49m\u001b[38;5;241;43m=\u001b[39;49m\u001b[43mconvert\u001b[49m\u001b[43m)\u001b[49m\n",
      "File \u001b[1;32mc:\\Python312\\Lib\\site-packages\\pandas\\core\\algorithms.py:1743\u001b[0m, in \u001b[0;36mmap_array\u001b[1;34m(arr, mapper, na_action, convert)\u001b[0m\n\u001b[0;32m   1741\u001b[0m values \u001b[38;5;241m=\u001b[39m arr\u001b[38;5;241m.\u001b[39mastype(\u001b[38;5;28mobject\u001b[39m, copy\u001b[38;5;241m=\u001b[39m\u001b[38;5;28;01mFalse\u001b[39;00m)\n\u001b[0;32m   1742\u001b[0m \u001b[38;5;28;01mif\u001b[39;00m na_action \u001b[38;5;129;01mis\u001b[39;00m \u001b[38;5;28;01mNone\u001b[39;00m:\n\u001b[1;32m-> 1743\u001b[0m     \u001b[38;5;28;01mreturn\u001b[39;00m \u001b[43mlib\u001b[49m\u001b[38;5;241;43m.\u001b[39;49m\u001b[43mmap_infer\u001b[49m\u001b[43m(\u001b[49m\u001b[43mvalues\u001b[49m\u001b[43m,\u001b[49m\u001b[43m \u001b[49m\u001b[43mmapper\u001b[49m\u001b[43m,\u001b[49m\u001b[43m \u001b[49m\u001b[43mconvert\u001b[49m\u001b[38;5;241;43m=\u001b[39;49m\u001b[43mconvert\u001b[49m\u001b[43m)\u001b[49m\n\u001b[0;32m   1744\u001b[0m \u001b[38;5;28;01melse\u001b[39;00m:\n\u001b[0;32m   1745\u001b[0m     \u001b[38;5;28;01mreturn\u001b[39;00m lib\u001b[38;5;241m.\u001b[39mmap_infer_mask(\n\u001b[0;32m   1746\u001b[0m         values, mapper, mask\u001b[38;5;241m=\u001b[39misna(values)\u001b[38;5;241m.\u001b[39mview(np\u001b[38;5;241m.\u001b[39muint8), convert\u001b[38;5;241m=\u001b[39mconvert\n\u001b[0;32m   1747\u001b[0m     )\n",
      "File \u001b[1;32mlib.pyx:2972\u001b[0m, in \u001b[0;36mpandas._libs.lib.map_infer\u001b[1;34m()\u001b[0m\n",
      "Cell \u001b[1;32mIn[50], line 5\u001b[0m, in \u001b[0;36mremove_stopwords\u001b[1;34m(text)\u001b[0m\n\u001b[0;32m      2\u001b[0m new_text \u001b[38;5;241m=\u001b[39m []\n\u001b[0;32m      4\u001b[0m \u001b[38;5;28;01mfor\u001b[39;00m word \u001b[38;5;129;01min\u001b[39;00m text\u001b[38;5;241m.\u001b[39msplit():\n\u001b[1;32m----> 5\u001b[0m     \u001b[38;5;28;01mif\u001b[39;00m word \u001b[38;5;129;01min\u001b[39;00m \u001b[43mstopwords\u001b[49m\u001b[38;5;241;43m.\u001b[39;49m\u001b[43mwords\u001b[49m\u001b[43m(\u001b[49m\u001b[38;5;124;43m'\u001b[39;49m\u001b[38;5;124;43menglish\u001b[39;49m\u001b[38;5;124;43m'\u001b[39;49m\u001b[43m)\u001b[49m:\n\u001b[0;32m      6\u001b[0m         new_text\u001b[38;5;241m.\u001b[39mappend(\u001b[38;5;124m'\u001b[39m\u001b[38;5;124m'\u001b[39m)\n\u001b[0;32m      7\u001b[0m     \u001b[38;5;28;01melse\u001b[39;00m:\n",
      "File \u001b[1;32mc:\\Python312\\Lib\\site-packages\\nltk\\corpus\\reader\\wordlist.py:21\u001b[0m, in \u001b[0;36mWordListCorpusReader.words\u001b[1;34m(self, fileids, ignore_lines_startswith)\u001b[0m\n\u001b[0;32m     18\u001b[0m \u001b[38;5;28;01mdef\u001b[39;00m \u001b[38;5;21mwords\u001b[39m(\u001b[38;5;28mself\u001b[39m, fileids\u001b[38;5;241m=\u001b[39m\u001b[38;5;28;01mNone\u001b[39;00m, ignore_lines_startswith\u001b[38;5;241m=\u001b[39m\u001b[38;5;124m\"\u001b[39m\u001b[38;5;130;01m\\n\u001b[39;00m\u001b[38;5;124m\"\u001b[39m):\n\u001b[0;32m     19\u001b[0m     \u001b[38;5;28;01mreturn\u001b[39;00m [\n\u001b[0;32m     20\u001b[0m         line\n\u001b[1;32m---> 21\u001b[0m         \u001b[38;5;28;01mfor\u001b[39;00m line \u001b[38;5;129;01min\u001b[39;00m line_tokenize(\u001b[38;5;28;43mself\u001b[39;49m\u001b[38;5;241;43m.\u001b[39;49m\u001b[43mraw\u001b[49m\u001b[43m(\u001b[49m\u001b[43mfileids\u001b[49m\u001b[43m)\u001b[49m)\n\u001b[0;32m     22\u001b[0m         \u001b[38;5;28;01mif\u001b[39;00m \u001b[38;5;129;01mnot\u001b[39;00m line\u001b[38;5;241m.\u001b[39mstartswith(ignore_lines_startswith)\n\u001b[0;32m     23\u001b[0m     ]\n",
      "File \u001b[1;32mc:\\Python312\\Lib\\site-packages\\nltk\\corpus\\reader\\api.py:218\u001b[0m, in \u001b[0;36mCorpusReader.raw\u001b[1;34m(self, fileids)\u001b[0m\n\u001b[0;32m    216\u001b[0m contents \u001b[38;5;241m=\u001b[39m []\n\u001b[0;32m    217\u001b[0m \u001b[38;5;28;01mfor\u001b[39;00m f \u001b[38;5;129;01min\u001b[39;00m fileids:\n\u001b[1;32m--> 218\u001b[0m     \u001b[38;5;28;01mwith\u001b[39;00m \u001b[38;5;28;43mself\u001b[39;49m\u001b[38;5;241;43m.\u001b[39;49m\u001b[43mopen\u001b[49m\u001b[43m(\u001b[49m\u001b[43mf\u001b[49m\u001b[43m)\u001b[49m \u001b[38;5;28;01mas\u001b[39;00m fp:\n\u001b[0;32m    219\u001b[0m         contents\u001b[38;5;241m.\u001b[39mappend(fp\u001b[38;5;241m.\u001b[39mread())\n\u001b[0;32m    220\u001b[0m \u001b[38;5;28;01mreturn\u001b[39;00m concat(contents)\n",
      "File \u001b[1;32mc:\\Python312\\Lib\\site-packages\\nltk\\corpus\\reader\\api.py:231\u001b[0m, in \u001b[0;36mCorpusReader.open\u001b[1;34m(self, file)\u001b[0m\n\u001b[0;32m    223\u001b[0m \u001b[38;5;250m\u001b[39m\u001b[38;5;124;03m\"\"\"\u001b[39;00m\n\u001b[0;32m    224\u001b[0m \u001b[38;5;124;03mReturn an open stream that can be used to read the given file.\u001b[39;00m\n\u001b[0;32m    225\u001b[0m \u001b[38;5;124;03mIf the file's encoding is not None, then the stream will\u001b[39;00m\n\u001b[1;32m   (...)\u001b[0m\n\u001b[0;32m    228\u001b[0m \u001b[38;5;124;03m:param file: The file identifier of the file to read.\u001b[39;00m\n\u001b[0;32m    229\u001b[0m \u001b[38;5;124;03m\"\"\"\u001b[39;00m\n\u001b[0;32m    230\u001b[0m encoding \u001b[38;5;241m=\u001b[39m \u001b[38;5;28mself\u001b[39m\u001b[38;5;241m.\u001b[39mencoding(file)\n\u001b[1;32m--> 231\u001b[0m stream \u001b[38;5;241m=\u001b[39m \u001b[38;5;28;43mself\u001b[39;49m\u001b[38;5;241;43m.\u001b[39;49m\u001b[43m_root\u001b[49m\u001b[38;5;241;43m.\u001b[39;49m\u001b[43mjoin\u001b[49m\u001b[43m(\u001b[49m\u001b[43mfile\u001b[49m\u001b[43m)\u001b[49m\u001b[38;5;241m.\u001b[39mopen(encoding)\n\u001b[0;32m    232\u001b[0m \u001b[38;5;28;01mreturn\u001b[39;00m stream\n",
      "File \u001b[1;32mc:\\Python312\\Lib\\site-packages\\nltk\\data.py:334\u001b[0m, in \u001b[0;36mFileSystemPathPointer.join\u001b[1;34m(self, fileid)\u001b[0m\n\u001b[0;32m    332\u001b[0m \u001b[38;5;28;01mdef\u001b[39;00m \u001b[38;5;21mjoin\u001b[39m(\u001b[38;5;28mself\u001b[39m, fileid):\n\u001b[0;32m    333\u001b[0m     _path \u001b[38;5;241m=\u001b[39m os\u001b[38;5;241m.\u001b[39mpath\u001b[38;5;241m.\u001b[39mjoin(\u001b[38;5;28mself\u001b[39m\u001b[38;5;241m.\u001b[39m_path, fileid)\n\u001b[1;32m--> 334\u001b[0m     \u001b[38;5;28;01mreturn\u001b[39;00m \u001b[43mFileSystemPathPointer\u001b[49m\u001b[43m(\u001b[49m\u001b[43m_path\u001b[49m\u001b[43m)\u001b[49m\n",
      "File \u001b[1;32mc:\\Python312\\Lib\\site-packages\\nltk\\compat.py:41\u001b[0m, in \u001b[0;36mpy3_data.<locals>._decorator\u001b[1;34m(*args, **kwargs)\u001b[0m\n\u001b[0;32m     39\u001b[0m \u001b[38;5;28;01mdef\u001b[39;00m \u001b[38;5;21m_decorator\u001b[39m(\u001b[38;5;241m*\u001b[39margs, \u001b[38;5;241m*\u001b[39m\u001b[38;5;241m*\u001b[39mkwargs):\n\u001b[0;32m     40\u001b[0m     args \u001b[38;5;241m=\u001b[39m (args[\u001b[38;5;241m0\u001b[39m], add_py3_data(args[\u001b[38;5;241m1\u001b[39m])) \u001b[38;5;241m+\u001b[39m args[\u001b[38;5;241m2\u001b[39m:]\n\u001b[1;32m---> 41\u001b[0m     \u001b[38;5;28;01mreturn\u001b[39;00m \u001b[43minit_func\u001b[49m\u001b[43m(\u001b[49m\u001b[38;5;241;43m*\u001b[39;49m\u001b[43margs\u001b[49m\u001b[43m,\u001b[49m\u001b[43m \u001b[49m\u001b[38;5;241;43m*\u001b[39;49m\u001b[38;5;241;43m*\u001b[39;49m\u001b[43mkwargs\u001b[49m\u001b[43m)\u001b[49m\n",
      "File \u001b[1;32mc:\\Python312\\Lib\\site-packages\\nltk\\data.py:311\u001b[0m, in \u001b[0;36mFileSystemPathPointer.__init__\u001b[1;34m(self, _path)\u001b[0m\n\u001b[0;32m    304\u001b[0m \u001b[38;5;250m\u001b[39m\u001b[38;5;124;03m\"\"\"\u001b[39;00m\n\u001b[0;32m    305\u001b[0m \u001b[38;5;124;03mCreate a new path pointer for the given absolute path.\u001b[39;00m\n\u001b[0;32m    306\u001b[0m \n\u001b[0;32m    307\u001b[0m \u001b[38;5;124;03m:raise IOError: If the given path does not exist.\u001b[39;00m\n\u001b[0;32m    308\u001b[0m \u001b[38;5;124;03m\"\"\"\u001b[39;00m\n\u001b[0;32m    310\u001b[0m _path \u001b[38;5;241m=\u001b[39m os\u001b[38;5;241m.\u001b[39mpath\u001b[38;5;241m.\u001b[39mabspath(_path)\n\u001b[1;32m--> 311\u001b[0m \u001b[38;5;28;01mif\u001b[39;00m \u001b[38;5;129;01mnot\u001b[39;00m \u001b[43mos\u001b[49m\u001b[38;5;241;43m.\u001b[39;49m\u001b[43mpath\u001b[49m\u001b[38;5;241;43m.\u001b[39;49m\u001b[43mexists\u001b[49m\u001b[43m(\u001b[49m\u001b[43m_path\u001b[49m\u001b[43m)\u001b[49m:\n\u001b[0;32m    312\u001b[0m     \u001b[38;5;28;01mraise\u001b[39;00m \u001b[38;5;167;01mOSError\u001b[39;00m(\u001b[38;5;124m\"\u001b[39m\u001b[38;5;124mNo such file or directory: \u001b[39m\u001b[38;5;132;01m%r\u001b[39;00m\u001b[38;5;124m\"\u001b[39m \u001b[38;5;241m%\u001b[39m _path)\n\u001b[0;32m    313\u001b[0m \u001b[38;5;28mself\u001b[39m\u001b[38;5;241m.\u001b[39m_path \u001b[38;5;241m=\u001b[39m _path\n",
      "\u001b[1;31mKeyboardInterrupt\u001b[0m: "
     ]
    }
   ],
   "source": [
    "#df['review'].apply(remove_stopwords)"
   ]
  },
  {
   "cell_type": "markdown",
   "id": "5720e8ec",
   "metadata": {
    "papermill": {
     "duration": 0.066352,
     "end_time": "2023-01-18T14:21:19.005049",
     "exception": false,
     "start_time": "2023-01-18T14:21:18.938697",
     "status": "completed"
    },
    "tags": []
   },
   "source": [
    "# Handle Emoji"
   ]
  },
  {
   "cell_type": "markdown",
   "id": "fa0745a2",
   "metadata": {
    "papermill": {
     "duration": 0.066018,
     "end_time": "2023-01-18T14:21:19.137765",
     "exception": false,
     "start_time": "2023-01-18T14:21:19.071747",
     "status": "completed"
    },
    "tags": []
   },
   "source": [
    "**Remove Emoji**"
   ]
  },
  {
   "cell_type": "code",
   "execution_count": null,
   "id": "f91254dc",
   "metadata": {
    "execution": {
     "iopub.execute_input": "2023-01-18T14:21:19.279974Z",
     "iopub.status.busy": "2023-01-18T14:21:19.278769Z",
     "iopub.status.idle": "2023-01-18T14:21:19.280817Z",
     "shell.execute_reply": "2023-01-18T14:21:19.281336Z",
     "shell.execute_reply.started": "2023-01-18T13:45:02.574876Z"
    },
    "papermill": {
     "duration": 0.076473,
     "end_time": "2023-01-18T14:21:19.281563",
     "exception": false,
     "start_time": "2023-01-18T14:21:19.205090",
     "status": "completed"
    },
    "tags": []
   },
   "outputs": [],
   "source": [
    "import re\n",
    "def remove_emoji(text):\n",
    "    emoji_pattern = re.compile(\"[\"\n",
    "                           u\"\\U0001F600-\\U0001F64F\"  # emoticons\n",
    "                           u\"\\U0001F300-\\U0001F5FF\"  # symbols & pictographs\n",
    "                           u\"\\U0001F680-\\U0001F6FF\"  # transport & map symbols\n",
    "                           u\"\\U0001F1E0-\\U0001F1FF\"  # flags (iOS)\n",
    "                           u\"\\U00002702-\\U000027B0\"\n",
    "                           u\"\\U000024C2-\\U0001F251\"\n",
    "                           \"]+\", flags=re.UNICODE)\n",
    "    return emoji_pattern.sub(r'', text)"
   ]
  },
  {
   "cell_type": "code",
   "execution_count": 41,
   "id": "2bdefa93",
   "metadata": {
    "execution": {
     "iopub.execute_input": "2023-01-18T14:21:19.430562Z",
     "iopub.status.busy": "2023-01-18T14:21:19.429499Z",
     "iopub.status.idle": "2023-01-18T14:21:19.433016Z",
     "shell.execute_reply": "2023-01-18T14:21:19.433740Z",
     "shell.execute_reply.started": "2023-01-18T13:45:05.572402Z"
    },
    "papermill": {
     "duration": 0.082731,
     "end_time": "2023-01-18T14:21:19.433981",
     "exception": false,
     "start_time": "2023-01-18T14:21:19.351250",
     "status": "completed"
    },
    "tags": []
   },
   "outputs": [
    {
     "data": {
      "text/plain": [
       "'Loved the movie. It was '"
      ]
     },
     "execution_count": 41,
     "metadata": {},
     "output_type": "execute_result"
    }
   ],
   "source": [
    "remove_emoji(\"Loved the movie. It was 😘😘\")"
   ]
  },
  {
   "cell_type": "code",
   "execution_count": 42,
   "id": "543f00bc",
   "metadata": {
    "execution": {
     "iopub.execute_input": "2023-01-18T14:21:19.578309Z",
     "iopub.status.busy": "2023-01-18T14:21:19.577319Z",
     "iopub.status.idle": "2023-01-18T14:21:19.580857Z",
     "shell.execute_reply": "2023-01-18T14:21:19.581392Z",
     "shell.execute_reply.started": "2023-01-18T13:45:10.247730Z"
    },
    "papermill": {
     "duration": 0.0785,
     "end_time": "2023-01-18T14:21:19.581589",
     "exception": false,
     "start_time": "2023-01-18T14:21:19.503089",
     "status": "completed"
    },
    "tags": []
   },
   "outputs": [
    {
     "data": {
      "text/plain": [
       "'Lmao '"
      ]
     },
     "execution_count": 42,
     "metadata": {},
     "output_type": "execute_result"
    }
   ],
   "source": [
    "remove_emoji(\"Lmao 😂😂\")"
   ]
  },
  {
   "cell_type": "markdown",
   "id": "82e595d9",
   "metadata": {
    "papermill": {
     "duration": 0.066862,
     "end_time": "2023-01-18T14:21:19.716119",
     "exception": false,
     "start_time": "2023-01-18T14:21:19.649257",
     "status": "completed"
    },
    "tags": []
   },
   "source": [
    "**Replace Emoji**"
   ]
  },
  {
   "cell_type": "code",
   "execution_count": 43,
   "id": "f6e8879b",
   "metadata": {
    "execution": {
     "iopub.execute_input": "2023-01-18T14:21:19.860853Z",
     "iopub.status.busy": "2023-01-18T14:21:19.859800Z",
     "iopub.status.idle": "2023-01-18T14:21:20.130922Z",
     "shell.execute_reply": "2023-01-18T14:21:20.130043Z",
     "shell.execute_reply.started": "2023-01-18T13:46:14.886976Z"
    },
    "papermill": {
     "duration": 0.344624,
     "end_time": "2023-01-18T14:21:20.131122",
     "exception": false,
     "start_time": "2023-01-18T14:21:19.786498",
     "status": "completed"
    },
    "tags": []
   },
   "outputs": [
    {
     "name": "stdout",
     "output_type": "stream",
     "text": [
      "Python is :fire:\n"
     ]
    }
   ],
   "source": [
    "import emoji\n",
    "print(emoji.demojize('Python is 🔥'))"
   ]
  },
  {
   "cell_type": "code",
   "execution_count": 44,
   "id": "8596b5b4",
   "metadata": {
    "execution": {
     "iopub.execute_input": "2023-01-18T14:21:20.272279Z",
     "iopub.status.busy": "2023-01-18T14:21:20.271327Z",
     "iopub.status.idle": "2023-01-18T14:21:20.275090Z",
     "shell.execute_reply": "2023-01-18T14:21:20.275656Z",
     "shell.execute_reply.started": "2023-01-18T14:15:28.894189Z"
    },
    "papermill": {
     "duration": 0.076379,
     "end_time": "2023-01-18T14:21:20.275849",
     "exception": false,
     "start_time": "2023-01-18T14:21:20.199470",
     "status": "completed"
    },
    "tags": []
   },
   "outputs": [
    {
     "name": "stdout",
     "output_type": "stream",
     "text": [
      "Loved the movie. It was :face_blowing_a_kiss:\n"
     ]
    }
   ],
   "source": [
    "print(emoji.demojize('Loved the movie. It was 😘'))"
   ]
  },
  {
   "cell_type": "markdown",
   "id": "fb6eca84",
   "metadata": {
    "papermill": {
     "duration": 0.071561,
     "end_time": "2023-01-18T14:21:20.417979",
     "exception": false,
     "start_time": "2023-01-18T14:21:20.346418",
     "status": "completed"
    },
    "tags": []
   },
   "source": [
    "# Handle Emoticons"
   ]
  },
  {
   "cell_type": "markdown",
   "id": "8bc5d0d6",
   "metadata": {
    "papermill": {
     "duration": 0.068696,
     "end_time": "2023-01-18T14:21:20.556413",
     "exception": false,
     "start_time": "2023-01-18T14:21:20.487717",
     "status": "completed"
    },
    "tags": []
   },
   "source": [
    "**Remove**"
   ]
  },
  {
   "cell_type": "code",
   "execution_count": 45,
   "id": "cbaa7716",
   "metadata": {
    "execution": {
     "iopub.execute_input": "2023-01-18T14:21:20.699022Z",
     "iopub.status.busy": "2023-01-18T14:21:20.697962Z",
     "iopub.status.idle": "2023-01-18T14:21:20.723394Z",
     "shell.execute_reply": "2023-01-18T14:21:20.723980Z",
     "shell.execute_reply.started": "2023-01-18T14:09:32.610951Z"
    },
    "papermill": {
     "duration": 0.098681,
     "end_time": "2023-01-18T14:21:20.724178",
     "exception": false,
     "start_time": "2023-01-18T14:21:20.625497",
     "status": "completed"
    },
    "tags": []
   },
   "outputs": [],
   "source": [
    "# Thanks : https://github.com/NeelShah18/emot/blob/master/emot/emo_unicode.py\n",
    "EMOTICONS = {\n",
    "    u\":‑\\)\":\"Happy face or smiley\",\n",
    "    u\":\\)\":\"Happy face or smiley\",\n",
    "    u\":-\\]\":\"Happy face or smiley\",\n",
    "    u\":\\]\":\"Happy face or smiley\",\n",
    "    u\":-3\":\"Happy face smiley\",\n",
    "    u\":3\":\"Happy face smiley\",\n",
    "    u\":->\":\"Happy face smiley\",\n",
    "    u\":>\":\"Happy face smiley\",\n",
    "    u\"8-\\)\":\"Happy face smiley\",\n",
    "    u\":o\\)\":\"Happy face smiley\",\n",
    "    u\":-\\}\":\"Happy face smiley\",\n",
    "    u\":\\}\":\"Happy face smiley\",\n",
    "    u\":-\\)\":\"Happy face smiley\",\n",
    "    u\":c\\)\":\"Happy face smiley\",\n",
    "    u\":\\^\\)\":\"Happy face smiley\",\n",
    "    u\"=\\]\":\"Happy face smiley\",\n",
    "    u\"=\\)\":\"Happy face smiley\",\n",
    "    u\":‑D\":\"Laughing, big grin or laugh with glasses\",\n",
    "    u\":D\":\"Laughing, big grin or laugh with glasses\",\n",
    "    u\"8‑D\":\"Laughing, big grin or laugh with glasses\",\n",
    "    u\"8D\":\"Laughing, big grin or laugh with glasses\",\n",
    "    u\"X‑D\":\"Laughing, big grin or laugh with glasses\",\n",
    "    u\"XD\":\"Laughing, big grin or laugh with glasses\",\n",
    "    u\"=D\":\"Laughing, big grin or laugh with glasses\",\n",
    "    u\"=3\":\"Laughing, big grin or laugh with glasses\",\n",
    "    u\"B\\^D\":\"Laughing, big grin or laugh with glasses\",\n",
    "    u\":-\\)\\)\":\"Very happy\",\n",
    "    u\":‑\\(\":\"Frown, sad, andry or pouting\",\n",
    "    u\":-\\(\":\"Frown, sad, andry or pouting\",\n",
    "    u\":\\(\":\"Frown, sad, andry or pouting\",\n",
    "    u\":‑c\":\"Frown, sad, andry or pouting\",\n",
    "    u\":c\":\"Frown, sad, andry or pouting\",\n",
    "    u\":‑<\":\"Frown, sad, andry or pouting\",\n",
    "    u\":<\":\"Frown, sad, andry or pouting\",\n",
    "    u\":‑\\[\":\"Frown, sad, andry or pouting\",\n",
    "    u\":\\[\":\"Frown, sad, andry or pouting\",\n",
    "    u\":-\\|\\|\":\"Frown, sad, andry or pouting\",\n",
    "    u\">:\\[\":\"Frown, sad, andry or pouting\",\n",
    "    u\":\\{\":\"Frown, sad, andry or pouting\",\n",
    "    u\":@\":\"Frown, sad, andry or pouting\",\n",
    "    u\">:\\(\":\"Frown, sad, andry or pouting\",\n",
    "    u\":'‑\\(\":\"Crying\",\n",
    "    u\":'\\(\":\"Crying\",\n",
    "    u\":'‑\\)\":\"Tears of happiness\",\n",
    "    u\":'\\)\":\"Tears of happiness\",\n",
    "    u\"D‑':\":\"Horror\",\n",
    "    u\"D:<\":\"Disgust\",\n",
    "    u\"D:\":\"Sadness\",\n",
    "    u\"D8\":\"Great dismay\",\n",
    "    u\"D;\":\"Great dismay\",\n",
    "    u\"D=\":\"Great dismay\",\n",
    "    u\"DX\":\"Great dismay\",\n",
    "    u\":‑O\":\"Surprise\",\n",
    "    u\":O\":\"Surprise\",\n",
    "    u\":‑o\":\"Surprise\",\n",
    "    u\":o\":\"Surprise\",\n",
    "    u\":-0\":\"Shock\",\n",
    "    u\"8‑0\":\"Yawn\",\n",
    "    u\">:O\":\"Yawn\",\n",
    "    u\":-\\*\":\"Kiss\",\n",
    "    u\":\\*\":\"Kiss\",\n",
    "    u\":X\":\"Kiss\",\n",
    "    u\";‑\\)\":\"Wink or smirk\",\n",
    "    u\";\\)\":\"Wink or smirk\",\n",
    "    u\"\\*-\\)\":\"Wink or smirk\",\n",
    "    u\"\\*\\)\":\"Wink or smirk\",\n",
    "    u\";‑\\]\":\"Wink or smirk\",\n",
    "    u\";\\]\":\"Wink or smirk\",\n",
    "    u\";\\^\\)\":\"Wink or smirk\",\n",
    "    u\":‑,\":\"Wink or smirk\",\n",
    "    u\";D\":\"Wink or smirk\",\n",
    "    u\":‑P\":\"Tongue sticking out, cheeky, playful or blowing a raspberry\",\n",
    "    u\":P\":\"Tongue sticking out, cheeky, playful or blowing a raspberry\",\n",
    "    u\"X‑P\":\"Tongue sticking out, cheeky, playful or blowing a raspberry\",\n",
    "    u\"XP\":\"Tongue sticking out, cheeky, playful or blowing a raspberry\",\n",
    "    u\":‑Þ\":\"Tongue sticking out, cheeky, playful or blowing a raspberry\",\n",
    "    u\":Þ\":\"Tongue sticking out, cheeky, playful or blowing a raspberry\",\n",
    "    u\":b\":\"Tongue sticking out, cheeky, playful or blowing a raspberry\",\n",
    "    u\"d:\":\"Tongue sticking out, cheeky, playful or blowing a raspberry\",\n",
    "    u\"=p\":\"Tongue sticking out, cheeky, playful or blowing a raspberry\",\n",
    "    u\">:P\":\"Tongue sticking out, cheeky, playful or blowing a raspberry\",\n",
    "    u\":‑/\":\"Skeptical, annoyed, undecided, uneasy or hesitant\",\n",
    "    u\":/\":\"Skeptical, annoyed, undecided, uneasy or hesitant\",\n",
    "    u\":-[.]\":\"Skeptical, annoyed, undecided, uneasy or hesitant\",\n",
    "    u\">:[(\\\\\\)]\":\"Skeptical, annoyed, undecided, uneasy or hesitant\",\n",
    "    u\">:/\":\"Skeptical, annoyed, undecided, uneasy or hesitant\",\n",
    "    u\":[(\\\\\\)]\":\"Skeptical, annoyed, undecided, uneasy or hesitant\",\n",
    "    u\"=/\":\"Skeptical, annoyed, undecided, uneasy or hesitant\",\n",
    "    u\"=[(\\\\\\)]\":\"Skeptical, annoyed, undecided, uneasy or hesitant\",\n",
    "    u\":L\":\"Skeptical, annoyed, undecided, uneasy or hesitant\",\n",
    "    u\"=L\":\"Skeptical, annoyed, undecided, uneasy or hesitant\",\n",
    "    u\":S\":\"Skeptical, annoyed, undecided, uneasy or hesitant\",\n",
    "    u\":‑\\|\":\"Straight face\",\n",
    "    u\":\\|\":\"Straight face\",\n",
    "    u\":$\":\"Embarrassed or blushing\",\n",
    "    u\":‑x\":\"Sealed lips or wearing braces or tongue-tied\",\n",
    "    u\":x\":\"Sealed lips or wearing braces or tongue-tied\",\n",
    "    u\":‑#\":\"Sealed lips or wearing braces or tongue-tied\",\n",
    "    u\":#\":\"Sealed lips or wearing braces or tongue-tied\",\n",
    "    u\":‑&\":\"Sealed lips or wearing braces or tongue-tied\",\n",
    "    u\":&\":\"Sealed lips or wearing braces or tongue-tied\",\n",
    "    u\"O:‑\\)\":\"Angel, saint or innocent\",\n",
    "    u\"O:\\)\":\"Angel, saint or innocent\",\n",
    "    u\"0:‑3\":\"Angel, saint or innocent\",\n",
    "    u\"0:3\":\"Angel, saint or innocent\",\n",
    "    u\"0:‑\\)\":\"Angel, saint or innocent\",\n",
    "    u\"0:\\)\":\"Angel, saint or innocent\",\n",
    "    u\":‑b\":\"Tongue sticking out, cheeky, playful or blowing a raspberry\",\n",
    "    u\"0;\\^\\)\":\"Angel, saint or innocent\",\n",
    "    u\">:‑\\)\":\"Evil or devilish\",\n",
    "    u\">:\\)\":\"Evil or devilish\",\n",
    "    u\"\\}:‑\\)\":\"Evil or devilish\",\n",
    "    u\"\\}:\\)\":\"Evil or devilish\",\n",
    "    u\"3:‑\\)\":\"Evil or devilish\",\n",
    "    u\"3:\\)\":\"Evil or devilish\",\n",
    "    u\">;\\)\":\"Evil or devilish\",\n",
    "    u\"\\|;‑\\)\":\"Cool\",\n",
    "    u\"\\|‑O\":\"Bored\",\n",
    "    u\":‑J\":\"Tongue-in-cheek\",\n",
    "    u\"#‑\\)\":\"Party all night\",\n",
    "    u\"%‑\\)\":\"Drunk or confused\",\n",
    "    u\"%\\)\":\"Drunk or confused\",\n",
    "    u\":-###..\":\"Being sick\",\n",
    "    u\":###..\":\"Being sick\",\n",
    "    u\"<:‑\\|\":\"Dump\",\n",
    "    u\"\\(>_<\\)\":\"Troubled\",\n",
    "    u\"\\(>_<\\)>\":\"Troubled\",\n",
    "    u\"\\(';'\\)\":\"Baby\",\n",
    "    u\"\\(\\^\\^>``\":\"Nervous or Embarrassed or Troubled or Shy or Sweat drop\",\n",
    "    u\"\\(\\^_\\^;\\)\":\"Nervous or Embarrassed or Troubled or Shy or Sweat drop\",\n",
    "    u\"\\(-_-;\\)\":\"Nervous or Embarrassed or Troubled or Shy or Sweat drop\",\n",
    "    u\"\\(~_~;\\) \\(・\\.・;\\)\":\"Nervous or Embarrassed or Troubled or Shy or Sweat drop\",\n",
    "    u\"\\(-_-\\)zzz\":\"Sleeping\",\n",
    "    u\"\\(\\^_-\\)\":\"Wink\",\n",
    "    u\"\\(\\(\\+_\\+\\)\\)\":\"Confused\",\n",
    "    u\"\\(\\+o\\+\\)\":\"Confused\",\n",
    "    u\"\\(o\\|o\\)\":\"Ultraman\",\n",
    "    u\"\\^_\\^\":\"Joyful\",\n",
    "    u\"\\(\\^_\\^\\)/\":\"Joyful\",\n",
    "    u\"\\(\\^O\\^\\)／\":\"Joyful\",\n",
    "    u\"\\(\\^o\\^\\)／\":\"Joyful\",\n",
    "    u\"\\(__\\)\":\"Kowtow as a sign of respect, or dogeza for apology\",\n",
    "    u\"_\\(\\._\\.\\)_\":\"Kowtow as a sign of respect, or dogeza for apology\",\n",
    "    u\"<\\(_ _\\)>\":\"Kowtow as a sign of respect, or dogeza for apology\",\n",
    "    u\"<m\\(__\\)m>\":\"Kowtow as a sign of respect, or dogeza for apology\",\n",
    "    u\"m\\(__\\)m\":\"Kowtow as a sign of respect, or dogeza for apology\",\n",
    "    u\"m\\(_ _\\)m\":\"Kowtow as a sign of respect, or dogeza for apology\",\n",
    "    u\"\\('_'\\)\":\"Sad or Crying\",\n",
    "    u\"\\(/_;\\)\":\"Sad or Crying\",\n",
    "    u\"\\(T_T\\) \\(;_;\\)\":\"Sad or Crying\",\n",
    "    u\"\\(;_;\":\"Sad of Crying\",\n",
    "    u\"\\(;_:\\)\":\"Sad or Crying\",\n",
    "    u\"\\(;O;\\)\":\"Sad or Crying\",\n",
    "    u\"\\(:_;\\)\":\"Sad or Crying\",\n",
    "    u\"\\(ToT\\)\":\"Sad or Crying\",\n",
    "    u\";_;\":\"Sad or Crying\",\n",
    "    u\";-;\":\"Sad or Crying\",\n",
    "    u\";n;\":\"Sad or Crying\",\n",
    "    u\";;\":\"Sad or Crying\",\n",
    "    u\"Q\\.Q\":\"Sad or Crying\",\n",
    "    u\"T\\.T\":\"Sad or Crying\",\n",
    "    u\"QQ\":\"Sad or Crying\",\n",
    "    u\"Q_Q\":\"Sad or Crying\",\n",
    "    u\"\\(-\\.-\\)\":\"Shame\",\n",
    "    u\"\\(-_-\\)\":\"Shame\",\n",
    "    u\"\\(一一\\)\":\"Shame\",\n",
    "    u\"\\(；一_一\\)\":\"Shame\",\n",
    "    u\"\\(=_=\\)\":\"Tired\",\n",
    "    u\"\\(=\\^\\·\\^=\\)\":\"cat\",\n",
    "    u\"\\(=\\^\\·\\·\\^=\\)\":\"cat\",\n",
    "    u\"=_\\^=\t\":\"cat\",\n",
    "    u\"\\(\\.\\.\\)\":\"Looking down\",\n",
    "    u\"\\(\\._\\.\\)\":\"Looking down\",\n",
    "    u\"\\^m\\^\":\"Giggling with hand covering mouth\",\n",
    "    u\"\\(\\・\\・?\":\"Confusion\",\n",
    "    u\"\\(?_?\\)\":\"Confusion\",\n",
    "    u\">\\^_\\^<\":\"Normal Laugh\",\n",
    "    u\"<\\^!\\^>\":\"Normal Laugh\",\n",
    "    u\"\\^/\\^\":\"Normal Laugh\",\n",
    "    u\"\\（\\*\\^_\\^\\*）\" :\"Normal Laugh\",\n",
    "    u\"\\(\\^<\\^\\) \\(\\^\\.\\^\\)\":\"Normal Laugh\",\n",
    "    u\"\\(^\\^\\)\":\"Normal Laugh\",\n",
    "    u\"\\(\\^\\.\\^\\)\":\"Normal Laugh\",\n",
    "    u\"\\(\\^_\\^\\.\\)\":\"Normal Laugh\",\n",
    "    u\"\\(\\^_\\^\\)\":\"Normal Laugh\",\n",
    "    u\"\\(\\^\\^\\)\":\"Normal Laugh\",\n",
    "    u\"\\(\\^J\\^\\)\":\"Normal Laugh\",\n",
    "    u\"\\(\\*\\^\\.\\^\\*\\)\":\"Normal Laugh\",\n",
    "    u\"\\(\\^—\\^\\）\":\"Normal Laugh\",\n",
    "    u\"\\(#\\^\\.\\^#\\)\":\"Normal Laugh\",\n",
    "    u\"\\（\\^—\\^\\）\":\"Waving\",\n",
    "    u\"\\(;_;\\)/~~~\":\"Waving\",\n",
    "    u\"\\(\\^\\.\\^\\)/~~~\":\"Waving\",\n",
    "    u\"\\(-_-\\)/~~~ \\($\\·\\·\\)/~~~\":\"Waving\",\n",
    "    u\"\\(T_T\\)/~~~\":\"Waving\",\n",
    "    u\"\\(ToT\\)/~~~\":\"Waving\",\n",
    "    u\"\\(\\*\\^0\\^\\*\\)\":\"Excited\",\n",
    "    u\"\\(\\*_\\*\\)\":\"Amazed\",\n",
    "    u\"\\(\\*_\\*;\":\"Amazed\",\n",
    "    u\"\\(\\+_\\+\\) \\(@_@\\)\":\"Amazed\",\n",
    "    u\"\\(\\*\\^\\^\\)v\":\"Laughing,Cheerful\",\n",
    "    u\"\\(\\^_\\^\\)v\":\"Laughing,Cheerful\",\n",
    "    u\"\\(\\(d[-_-]b\\)\\)\":\"Headphones,Listening to music\",\n",
    "    u'\\(-\"-\\)':\"Worried\",\n",
    "    u\"\\(ーー;\\)\":\"Worried\",\n",
    "    u\"\\(\\^0_0\\^\\)\":\"Eyeglasses\",\n",
    "    u\"\\(\\＾ｖ\\＾\\)\":\"Happy\",\n",
    "    u\"\\(\\＾ｕ\\＾\\)\":\"Happy\",\n",
    "    u\"\\(\\^\\)o\\(\\^\\)\":\"Happy\",\n",
    "    u\"\\(\\^O\\^\\)\":\"Happy\",\n",
    "    u\"\\(\\^o\\^\\)\":\"Happy\",\n",
    "    u\"\\)\\^o\\^\\(\":\"Happy\",\n",
    "    u\":O o_O\":\"Surprised\",\n",
    "    u\"o_0\":\"Surprised\",\n",
    "    u\"o\\.O\":\"Surpised\",\n",
    "    u\"\\(o\\.o\\)\":\"Surprised\",\n",
    "    u\"oO\":\"Surprised\",\n",
    "    u\"\\(\\*￣m￣\\)\":\"Dissatisfied\",\n",
    "    u\"\\(‘A`\\)\":\"Snubbed or Deflated\"\n",
    "}"
   ]
  },
  {
   "cell_type": "code",
   "execution_count": 46,
   "id": "b3e238af",
   "metadata": {
    "execution": {
     "iopub.execute_input": "2023-01-18T14:21:20.874400Z",
     "iopub.status.busy": "2023-01-18T14:21:20.873431Z",
     "iopub.status.idle": "2023-01-18T14:21:20.877208Z",
     "shell.execute_reply": "2023-01-18T14:21:20.876547Z",
     "shell.execute_reply.started": "2023-01-18T14:09:48.374053Z"
    },
    "papermill": {
     "duration": 0.08544,
     "end_time": "2023-01-18T14:21:20.877369",
     "exception": false,
     "start_time": "2023-01-18T14:21:20.791929",
     "status": "completed"
    },
    "tags": []
   },
   "outputs": [
    {
     "data": {
      "text/plain": [
       "'Hello '"
      ]
     },
     "execution_count": 46,
     "metadata": {},
     "output_type": "execute_result"
    }
   ],
   "source": [
    "def remove_emoticons(text):\n",
    "    emoticon_pattern = re.compile(u'(' + u'|'.join(k for k in EMOTICONS) + u')')\n",
    "    return emoticon_pattern.sub(r'', text)\n",
    "\n",
    "remove_emoticons(\"Hello :-)\")"
   ]
  },
  {
   "cell_type": "markdown",
   "id": "c4db3e23",
   "metadata": {
    "papermill": {
     "duration": 0.068695,
     "end_time": "2023-01-18T14:21:21.017287",
     "exception": false,
     "start_time": "2023-01-18T14:21:20.948592",
     "status": "completed"
    },
    "tags": []
   },
   "source": [
    "**Replace with words**"
   ]
  },
  {
   "cell_type": "code",
   "execution_count": 47,
   "id": "20e6b342",
   "metadata": {
    "execution": {
     "iopub.execute_input": "2023-01-18T14:21:21.159665Z",
     "iopub.status.busy": "2023-01-18T14:21:21.158915Z",
     "iopub.status.idle": "2023-01-18T14:21:21.185320Z",
     "shell.execute_reply": "2023-01-18T14:21:21.185933Z",
     "shell.execute_reply.started": "2023-01-18T14:10:19.361107Z"
    },
    "papermill": {
     "duration": 0.098426,
     "end_time": "2023-01-18T14:21:21.186133",
     "exception": false,
     "start_time": "2023-01-18T14:21:21.087707",
     "status": "completed"
    },
    "tags": []
   },
   "outputs": [
    {
     "data": {
      "text/plain": [
       "'Hello Happy_face_smiley Happy_face_smiley'"
      ]
     },
     "execution_count": 47,
     "metadata": {},
     "output_type": "execute_result"
    }
   ],
   "source": [
    "def convert_emoticons(text):\n",
    "    for emot in EMOTICONS:\n",
    "        text = re.sub(u'('+emot+')', \"_\".join(EMOTICONS[emot].replace(\",\",\"\").split()), text)\n",
    "    return text\n",
    "\n",
    "text = \"Hello :-) :-)\"\n",
    "convert_emoticons(text)"
   ]
  },
  {
   "cell_type": "markdown",
   "id": "7eb872c3",
   "metadata": {
    "papermill": {
     "duration": 0.075435,
     "end_time": "2023-01-18T14:21:21.332557",
     "exception": false,
     "start_time": "2023-01-18T14:21:21.257122",
     "status": "completed"
    },
    "tags": []
   },
   "source": [
    "# Tokenization"
   ]
  },
  {
   "cell_type": "markdown",
   "id": "69e616f0",
   "metadata": {
    "papermill": {
     "duration": 0.068293,
     "end_time": "2023-01-18T14:21:21.470441",
     "exception": false,
     "start_time": "2023-01-18T14:21:21.402148",
     "status": "completed"
    },
    "tags": []
   },
   "source": [
    "### 1. Using the split function"
   ]
  },
  {
   "cell_type": "code",
   "execution_count": 48,
   "id": "1c1daedc",
   "metadata": {
    "execution": {
     "iopub.execute_input": "2023-01-18T14:21:21.612005Z",
     "iopub.status.busy": "2023-01-18T14:21:21.611071Z",
     "iopub.status.idle": "2023-01-18T14:21:21.615955Z",
     "shell.execute_reply": "2023-01-18T14:21:21.616526Z",
     "shell.execute_reply.started": "2023-01-18T13:47:36.983089Z"
    },
    "papermill": {
     "duration": 0.077899,
     "end_time": "2023-01-18T14:21:21.616734",
     "exception": false,
     "start_time": "2023-01-18T14:21:21.538835",
     "status": "completed"
    },
    "tags": []
   },
   "outputs": [
    {
     "data": {
      "text/plain": [
       "['I', 'am', 'going', 'to', 'delhi']"
      ]
     },
     "execution_count": 48,
     "metadata": {},
     "output_type": "execute_result"
    }
   ],
   "source": [
    "# word tokenization\n",
    "sent1 = 'I am going to delhi'\n",
    "sent1.split()"
   ]
  },
  {
   "cell_type": "code",
   "execution_count": 49,
   "id": "37195458",
   "metadata": {
    "execution": {
     "iopub.execute_input": "2023-01-18T14:21:21.762303Z",
     "iopub.status.busy": "2023-01-18T14:21:21.761320Z",
     "iopub.status.idle": "2023-01-18T14:21:21.766291Z",
     "shell.execute_reply": "2023-01-18T14:21:21.766841Z",
     "shell.execute_reply.started": "2023-01-18T13:47:39.979447Z"
    },
    "papermill": {
     "duration": 0.077918,
     "end_time": "2023-01-18T14:21:21.767049",
     "exception": false,
     "start_time": "2023-01-18T14:21:21.689131",
     "status": "completed"
    },
    "tags": []
   },
   "outputs": [
    {
     "data": {
      "text/plain": [
       "['I am going to delhi',\n",
       " ' I will stay there for 3 days',\n",
       " \" Let's hope the trip to be great\"]"
      ]
     },
     "execution_count": 49,
     "metadata": {},
     "output_type": "execute_result"
    }
   ],
   "source": [
    "# sentence tokenization\n",
    "sent2 = 'I am going to delhi. I will stay there for 3 days. Let\\'s hope the trip to be great'\n",
    "sent2.split('.')"
   ]
  },
  {
   "cell_type": "code",
   "execution_count": 50,
   "id": "64f4a732",
   "metadata": {
    "execution": {
     "iopub.execute_input": "2023-01-18T14:21:21.915760Z",
     "iopub.status.busy": "2023-01-18T14:21:21.914736Z",
     "iopub.status.idle": "2023-01-18T14:21:21.918921Z",
     "shell.execute_reply": "2023-01-18T14:21:21.918404Z",
     "shell.execute_reply.started": "2023-01-18T13:52:25.415331Z"
    },
    "papermill": {
     "duration": 0.080722,
     "end_time": "2023-01-18T14:21:21.919104",
     "exception": false,
     "start_time": "2023-01-18T14:21:21.838382",
     "status": "completed"
    },
    "tags": []
   },
   "outputs": [
    {
     "data": {
      "text/plain": [
       "[['I', 'am', 'going', 'to', 'delhi'],\n",
       " ['I', 'will', 'stay', 'there', 'for', '3', 'days'],\n",
       " [\"Let's\", 'hope', 'the', 'trip', 'to', 'be', 'great']]"
      ]
     },
     "execution_count": 50,
     "metadata": {},
     "output_type": "execute_result"
    }
   ],
   "source": [
    "#Sentence word level tokenization\n",
    "sent_lst = []\n",
    "for sent in sent2.split('.'):\n",
    "    sent_lst.append(sent.split())\n",
    "sent_lst"
   ]
  },
  {
   "cell_type": "code",
   "execution_count": 51,
   "id": "b35557d9",
   "metadata": {
    "execution": {
     "iopub.execute_input": "2023-01-18T14:21:22.064867Z",
     "iopub.status.busy": "2023-01-18T14:21:22.064028Z",
     "iopub.status.idle": "2023-01-18T14:21:22.067329Z",
     "shell.execute_reply": "2023-01-18T14:21:22.067997Z",
     "shell.execute_reply.started": "2023-01-18T13:52:35.574362Z"
    },
    "papermill": {
     "duration": 0.080043,
     "end_time": "2023-01-18T14:21:22.068205",
     "exception": false,
     "start_time": "2023-01-18T14:21:21.988162",
     "status": "completed"
    },
    "tags": []
   },
   "outputs": [
    {
     "data": {
      "text/plain": [
       "['I', 'am', 'going', 'to', 'delhi!']"
      ]
     },
     "execution_count": 51,
     "metadata": {},
     "output_type": "execute_result"
    }
   ],
   "source": [
    "# Problems with split function\n",
    "sent3 = 'I am going to delhi!'\n",
    "sent3.split()"
   ]
  },
  {
   "cell_type": "code",
   "execution_count": 52,
   "id": "bfee2c0f",
   "metadata": {
    "execution": {
     "iopub.execute_input": "2023-01-18T14:21:22.216402Z",
     "iopub.status.busy": "2023-01-18T14:21:22.215464Z",
     "iopub.status.idle": "2023-01-18T14:21:22.218912Z",
     "shell.execute_reply": "2023-01-18T14:21:22.219588Z",
     "shell.execute_reply.started": "2023-01-18T13:52:51.611063Z"
    },
    "papermill": {
     "duration": 0.080488,
     "end_time": "2023-01-18T14:21:22.219795",
     "exception": false,
     "start_time": "2023-01-18T14:21:22.139307",
     "status": "completed"
    },
    "tags": []
   },
   "outputs": [
    {
     "data": {
      "text/plain": [
       "['Where do think I should go? I have 3 day holiday']"
      ]
     },
     "execution_count": 52,
     "metadata": {},
     "output_type": "execute_result"
    }
   ],
   "source": [
    "sent4 = 'Where do think I should go? I have 3 day holiday'\n",
    "sent4.split('.')"
   ]
  },
  {
   "cell_type": "markdown",
   "id": "c6658fce",
   "metadata": {
    "papermill": {
     "duration": 0.073687,
     "end_time": "2023-01-18T14:21:22.365520",
     "exception": false,
     "start_time": "2023-01-18T14:21:22.291833",
     "status": "completed"
    },
    "tags": []
   },
   "source": [
    "### 2. Regular Expression"
   ]
  },
  {
   "cell_type": "code",
   "execution_count": 53,
   "id": "9302a4a5",
   "metadata": {
    "execution": {
     "iopub.execute_input": "2023-01-18T14:21:22.514629Z",
     "iopub.status.busy": "2023-01-18T14:21:22.513623Z",
     "iopub.status.idle": "2023-01-18T14:21:22.520000Z",
     "shell.execute_reply": "2023-01-18T14:21:22.520626Z",
     "shell.execute_reply.started": "2023-01-18T13:53:18.292673Z"
    },
    "papermill": {
     "duration": 0.081877,
     "end_time": "2023-01-18T14:21:22.520812",
     "exception": false,
     "start_time": "2023-01-18T14:21:22.438935",
     "status": "completed"
    },
    "tags": []
   },
   "outputs": [
    {
     "data": {
      "text/plain": [
       "['I', 'am', 'going', 'to', 'delhi']"
      ]
     },
     "execution_count": 53,
     "metadata": {},
     "output_type": "execute_result"
    }
   ],
   "source": [
    "import re\n",
    "sent3 = 'I am going to delhi!'\n",
    "tokens = re.findall(\"[\\w']+\", sent3)\n",
    "tokens"
   ]
  },
  {
   "cell_type": "code",
   "execution_count": 54,
   "id": "0fb79dd6",
   "metadata": {
    "execution": {
     "iopub.execute_input": "2023-01-18T14:21:22.669146Z",
     "iopub.status.busy": "2023-01-18T14:21:22.668411Z",
     "iopub.status.idle": "2023-01-18T14:21:22.675272Z",
     "shell.execute_reply": "2023-01-18T14:21:22.675847Z",
     "shell.execute_reply.started": "2023-01-18T13:53:36.728170Z"
    },
    "papermill": {
     "duration": 0.082991,
     "end_time": "2023-01-18T14:21:22.676092",
     "exception": false,
     "start_time": "2023-01-18T14:21:22.593101",
     "status": "completed"
    },
    "tags": []
   },
   "outputs": [
    {
     "data": {
      "text/plain": [
       "['Lorem Ipsum is simply dummy text of the printing and typesetting industry',\n",
       " \"\\nLorem Ipsum has been the industry's standard dummy text ever since the 1500s, \\nwhen an unknown printer took a galley of type and scrambled it to make a type specimen book.\"]"
      ]
     },
     "execution_count": 54,
     "metadata": {},
     "output_type": "execute_result"
    }
   ],
   "source": [
    "\n",
    "text = \"\"\"Lorem Ipsum is simply dummy text of the printing and typesetting industry? \n",
    "Lorem Ipsum has been the industry's standard dummy text ever since the 1500s, \n",
    "when an unknown printer took a galley of type and scrambled it to make a type specimen book.\"\"\"\n",
    "sentences = re.compile('[.!?] ').split(text)\n",
    "sentences"
   ]
  },
  {
   "cell_type": "markdown",
   "id": "33ccb1e4",
   "metadata": {
    "papermill": {
     "duration": 0.070705,
     "end_time": "2023-01-18T14:21:22.818992",
     "exception": false,
     "start_time": "2023-01-18T14:21:22.748287",
     "status": "completed"
    },
    "tags": []
   },
   "source": [
    "### 3. NLTK"
   ]
  },
  {
   "cell_type": "code",
   "execution_count": 55,
   "id": "2fd29f5a",
   "metadata": {
    "execution": {
     "iopub.execute_input": "2023-01-18T14:21:22.966789Z",
     "iopub.status.busy": "2023-01-18T14:21:22.966084Z",
     "iopub.status.idle": "2023-01-18T14:21:22.968199Z",
     "shell.execute_reply": "2023-01-18T14:21:22.968701Z",
     "shell.execute_reply.started": "2023-01-18T13:53:57.905779Z"
    },
    "papermill": {
     "duration": 0.07862,
     "end_time": "2023-01-18T14:21:22.968914",
     "exception": false,
     "start_time": "2023-01-18T14:21:22.890294",
     "status": "completed"
    },
    "tags": []
   },
   "outputs": [],
   "source": [
    "from nltk.tokenize import word_tokenize,sent_tokenize"
   ]
  },
  {
   "cell_type": "code",
   "execution_count": 56,
   "id": "6a2c37bf",
   "metadata": {
    "execution": {
     "iopub.execute_input": "2023-01-18T14:21:23.114740Z",
     "iopub.status.busy": "2023-01-18T14:21:23.113914Z",
     "iopub.status.idle": "2023-01-18T14:21:23.134244Z",
     "shell.execute_reply": "2023-01-18T14:21:23.133536Z",
     "shell.execute_reply.started": "2023-01-18T13:54:08.273548Z"
    },
    "papermill": {
     "duration": 0.094566,
     "end_time": "2023-01-18T14:21:23.134408",
     "exception": false,
     "start_time": "2023-01-18T14:21:23.039842",
     "status": "completed"
    },
    "tags": []
   },
   "outputs": [
    {
     "data": {
      "text/plain": [
       "['I', 'am', 'going', 'to', 'visit', 'delhi', '!']"
      ]
     },
     "execution_count": 56,
     "metadata": {},
     "output_type": "execute_result"
    }
   ],
   "source": [
    "sent1 = 'I am going to visit delhi!'\n",
    "word_tokenize(sent1)"
   ]
  },
  {
   "cell_type": "code",
   "execution_count": 57,
   "id": "3b636e83",
   "metadata": {
    "execution": {
     "iopub.execute_input": "2023-01-18T14:21:23.280289Z",
     "iopub.status.busy": "2023-01-18T14:21:23.279548Z",
     "iopub.status.idle": "2023-01-18T14:21:23.286179Z",
     "shell.execute_reply": "2023-01-18T14:21:23.286845Z",
     "shell.execute_reply.started": "2023-01-18T13:54:12.408323Z"
    },
    "papermill": {
     "duration": 0.081064,
     "end_time": "2023-01-18T14:21:23.287045",
     "exception": false,
     "start_time": "2023-01-18T14:21:23.205981",
     "status": "completed"
    },
    "tags": []
   },
   "outputs": [
    {
     "data": {
      "text/plain": [
       "['Lorem Ipsum is simply dummy text of the printing and typesetting industry?',\n",
       " \"Lorem Ipsum has been the industry's standard dummy text ever since the 1500s, \\nwhen an unknown printer took a galley of type and scrambled it to make a type specimen book.\"]"
      ]
     },
     "execution_count": 57,
     "metadata": {},
     "output_type": "execute_result"
    }
   ],
   "source": [
    "text = \"\"\"Lorem Ipsum is simply dummy text of the printing and typesetting industry? \n",
    "Lorem Ipsum has been the industry's standard dummy text ever since the 1500s, \n",
    "when an unknown printer took a galley of type and scrambled it to make a type specimen book.\"\"\"\n",
    "\n",
    "sent_tokenize(text)"
   ]
  },
  {
   "cell_type": "code",
   "execution_count": 58,
   "id": "8935a0ae",
   "metadata": {
    "execution": {
     "iopub.execute_input": "2023-01-18T14:21:23.438019Z",
     "iopub.status.busy": "2023-01-18T14:21:23.437253Z",
     "iopub.status.idle": "2023-01-18T14:21:23.443006Z",
     "shell.execute_reply": "2023-01-18T14:21:23.443655Z",
     "shell.execute_reply.started": "2023-01-18T13:54:56.183914Z"
    },
    "papermill": {
     "duration": 0.082553,
     "end_time": "2023-01-18T14:21:23.443847",
     "exception": false,
     "start_time": "2023-01-18T14:21:23.361294",
     "status": "completed"
    },
    "tags": []
   },
   "outputs": [
    {
     "data": {
      "text/plain": [
       "['I', 'have', 'a', 'Ph.D', 'in', 'A.I']"
      ]
     },
     "execution_count": 58,
     "metadata": {},
     "output_type": "execute_result"
    }
   ],
   "source": [
    "sent5 = 'I have a Ph.D in A.I'\n",
    "sent6 = \"We're here to help! mail us at nks@gmail.com\"\n",
    "sent7 = 'A 5km ride cost $10.50'\n",
    "\n",
    "word_tokenize(sent5)"
   ]
  },
  {
   "cell_type": "code",
   "execution_count": 59,
   "id": "81098403",
   "metadata": {
    "execution": {
     "iopub.execute_input": "2023-01-18T14:21:23.592998Z",
     "iopub.status.busy": "2023-01-18T14:21:23.592229Z",
     "iopub.status.idle": "2023-01-18T14:21:23.597452Z",
     "shell.execute_reply": "2023-01-18T14:21:23.598052Z",
     "shell.execute_reply.started": "2023-01-18T13:54:58.458892Z"
    },
    "papermill": {
     "duration": 0.081154,
     "end_time": "2023-01-18T14:21:23.598232",
     "exception": false,
     "start_time": "2023-01-18T14:21:23.517078",
     "status": "completed"
    },
    "tags": []
   },
   "outputs": [
    {
     "data": {
      "text/plain": [
       "['We',\n",
       " \"'re\",\n",
       " 'here',\n",
       " 'to',\n",
       " 'help',\n",
       " '!',\n",
       " 'mail',\n",
       " 'us',\n",
       " 'at',\n",
       " 'nks',\n",
       " '@',\n",
       " 'gmail.com']"
      ]
     },
     "execution_count": 59,
     "metadata": {},
     "output_type": "execute_result"
    }
   ],
   "source": [
    "word_tokenize(sent6)"
   ]
  },
  {
   "cell_type": "code",
   "execution_count": 60,
   "id": "b8ce5bb7",
   "metadata": {
    "execution": {
     "iopub.execute_input": "2023-01-18T14:21:23.745268Z",
     "iopub.status.busy": "2023-01-18T14:21:23.744624Z",
     "iopub.status.idle": "2023-01-18T14:21:23.750107Z",
     "shell.execute_reply": "2023-01-18T14:21:23.750711Z",
     "shell.execute_reply.started": "2023-01-18T13:55:00.852679Z"
    },
    "papermill": {
     "duration": 0.080882,
     "end_time": "2023-01-18T14:21:23.750907",
     "exception": false,
     "start_time": "2023-01-18T14:21:23.670025",
     "status": "completed"
    },
    "tags": []
   },
   "outputs": [
    {
     "data": {
      "text/plain": [
       "['A', '5km', 'ride', 'cost', '$', '10.50']"
      ]
     },
     "execution_count": 60,
     "metadata": {},
     "output_type": "execute_result"
    }
   ],
   "source": [
    "word_tokenize(sent7)"
   ]
  },
  {
   "cell_type": "markdown",
   "id": "b6c9f90e",
   "metadata": {
    "papermill": {
     "duration": 0.072424,
     "end_time": "2023-01-18T14:21:23.895668",
     "exception": false,
     "start_time": "2023-01-18T14:21:23.823244",
     "status": "completed"
    },
    "tags": []
   },
   "source": [
    "### 4. Spacy"
   ]
  },
  {
   "cell_type": "code",
   "execution_count": 61,
   "id": "7a070735",
   "metadata": {
    "execution": {
     "iopub.execute_input": "2023-01-18T14:21:24.050693Z",
     "iopub.status.busy": "2023-01-18T14:21:24.049961Z",
     "iopub.status.idle": "2023-01-18T14:21:35.500844Z",
     "shell.execute_reply": "2023-01-18T14:21:35.500159Z",
     "shell.execute_reply.started": "2023-01-18T13:55:15.690148Z"
    },
    "papermill": {
     "duration": 11.527027,
     "end_time": "2023-01-18T14:21:35.501077",
     "exception": false,
     "start_time": "2023-01-18T14:21:23.974050",
     "status": "completed"
    },
    "tags": []
   },
   "outputs": [],
   "source": [
    "import spacy\n",
    "nlp = spacy.load('en_core_web_sm')"
   ]
  },
  {
   "cell_type": "code",
   "execution_count": 62,
   "id": "3b1a11f2",
   "metadata": {
    "execution": {
     "iopub.execute_input": "2023-01-18T14:21:35.655605Z",
     "iopub.status.busy": "2023-01-18T14:21:35.654745Z",
     "iopub.status.idle": "2023-01-18T14:21:35.701344Z",
     "shell.execute_reply": "2023-01-18T14:21:35.700684Z",
     "shell.execute_reply.started": "2023-01-18T13:55:19.815817Z"
    },
    "papermill": {
     "duration": 0.125879,
     "end_time": "2023-01-18T14:21:35.701514",
     "exception": false,
     "start_time": "2023-01-18T14:21:35.575635",
     "status": "completed"
    },
    "tags": []
   },
   "outputs": [],
   "source": [
    "doc1 = nlp(sent5)\n",
    "doc2 = nlp(sent6)\n",
    "doc3 = nlp(sent7)\n",
    "doc4 = nlp(sent1)"
   ]
  },
  {
   "cell_type": "code",
   "execution_count": 63,
   "id": "9ee5574f",
   "metadata": {
    "execution": {
     "iopub.execute_input": "2023-01-18T14:21:35.856969Z",
     "iopub.status.busy": "2023-01-18T14:21:35.856072Z",
     "iopub.status.idle": "2023-01-18T14:21:35.861139Z",
     "shell.execute_reply": "2023-01-18T14:21:35.861713Z",
     "shell.execute_reply.started": "2023-01-18T13:56:01.133576Z"
    },
    "papermill": {
     "duration": 0.084508,
     "end_time": "2023-01-18T14:21:35.861921",
     "exception": false,
     "start_time": "2023-01-18T14:21:35.777413",
     "status": "completed"
    },
    "tags": []
   },
   "outputs": [
    {
     "name": "stdout",
     "output_type": "stream",
     "text": [
      "I\n",
      "have\n",
      "a\n",
      "Ph\n",
      ".\n",
      "D\n",
      "in\n",
      "A.I\n"
     ]
    }
   ],
   "source": [
    "for token in doc1:\n",
    "    print(token)"
   ]
  },
  {
   "cell_type": "markdown",
   "id": "6e4d778d",
   "metadata": {
    "papermill": {
     "duration": 0.073963,
     "end_time": "2023-01-18T14:21:36.010945",
     "exception": false,
     "start_time": "2023-01-18T14:21:35.936982",
     "status": "completed"
    },
    "tags": []
   },
   "source": [
    "# Stemming"
   ]
  },
  {
   "cell_type": "code",
   "execution_count": 64,
   "id": "105b41ad",
   "metadata": {
    "execution": {
     "iopub.execute_input": "2023-01-18T14:21:36.166742Z",
     "iopub.status.busy": "2023-01-18T14:21:36.165962Z",
     "iopub.status.idle": "2023-01-18T14:21:36.168801Z",
     "shell.execute_reply": "2023-01-18T14:21:36.168086Z",
     "shell.execute_reply.started": "2023-01-18T13:59:15.242890Z"
    },
    "papermill": {
     "duration": 0.081389,
     "end_time": "2023-01-18T14:21:36.169010",
     "exception": false,
     "start_time": "2023-01-18T14:21:36.087621",
     "status": "completed"
    },
    "tags": []
   },
   "outputs": [],
   "source": [
    "from nltk.stem.porter import PorterStemmer"
   ]
  },
  {
   "cell_type": "code",
   "execution_count": 65,
   "id": "df901c08",
   "metadata": {
    "execution": {
     "iopub.execute_input": "2023-01-18T14:21:36.330515Z",
     "iopub.status.busy": "2023-01-18T14:21:36.328164Z",
     "iopub.status.idle": "2023-01-18T14:21:36.332947Z",
     "shell.execute_reply": "2023-01-18T14:21:36.333497Z",
     "shell.execute_reply.started": "2023-01-18T13:59:18.762808Z"
    },
    "papermill": {
     "duration": 0.087483,
     "end_time": "2023-01-18T14:21:36.333722",
     "exception": false,
     "start_time": "2023-01-18T14:21:36.246239",
     "status": "completed"
    },
    "tags": []
   },
   "outputs": [],
   "source": [
    "ps = PorterStemmer()\n",
    "def stem_words(text):\n",
    "    return \" \".join([ps.stem(word) for word in text.split()])"
   ]
  },
  {
   "cell_type": "code",
   "execution_count": 66,
   "id": "300766d3",
   "metadata": {
    "execution": {
     "iopub.execute_input": "2023-01-18T14:21:36.490733Z",
     "iopub.status.busy": "2023-01-18T14:21:36.488111Z",
     "iopub.status.idle": "2023-01-18T14:21:36.495371Z",
     "shell.execute_reply": "2023-01-18T14:21:36.495938Z",
     "shell.execute_reply.started": "2023-01-18T13:59:21.792554Z"
    },
    "papermill": {
     "duration": 0.086823,
     "end_time": "2023-01-18T14:21:36.496238",
     "exception": false,
     "start_time": "2023-01-18T14:21:36.409415",
     "status": "completed"
    },
    "tags": []
   },
   "outputs": [
    {
     "data": {
      "text/plain": [
       "'walk walk walk walk'"
      ]
     },
     "execution_count": 66,
     "metadata": {},
     "output_type": "execute_result"
    }
   ],
   "source": [
    "sample = \"walk walks walking walked\"\n",
    "stem_words(sample)"
   ]
  },
  {
   "cell_type": "code",
   "execution_count": 67,
   "id": "132c4114",
   "metadata": {
    "execution": {
     "iopub.execute_input": "2023-01-18T14:21:36.655548Z",
     "iopub.status.busy": "2023-01-18T14:21:36.654291Z",
     "iopub.status.idle": "2023-01-18T14:21:36.659499Z",
     "shell.execute_reply": "2023-01-18T14:21:36.660021Z",
     "shell.execute_reply.started": "2023-01-18T13:59:48.514125Z"
    },
    "papermill": {
     "duration": 0.088998,
     "end_time": "2023-01-18T14:21:36.660222",
     "exception": false,
     "start_time": "2023-01-18T14:21:36.571224",
     "status": "completed"
    },
    "tags": []
   },
   "outputs": [
    {
     "name": "stdout",
     "output_type": "stream",
     "text": [
      "probably my alltime favorite movie a story of selflessness sacrifice and dedication to a noble cause but its not preachy or boring it just never gets old despite my having seen it some 15 or more times in the last 25 years paul lukas performance brings tears to my eyes and bette davis in one of her very few truly sympathetic roles is a delight the kids are as grandma says more like dressedup midgets than children but that only makes them more fun to watch and the mothers slow awakening to whats happening in the world and under her own roof is believable and startling if i had a dozen thumbs theyd all be up for this movie\n"
     ]
    },
    {
     "data": {
      "text/plain": [
       "'probabl my alltim favorit movi a stori of selfless sacrific and dedic to a nobl caus but it not preachi or bore it just never get old despit my have seen it some 15 or more time in the last 25 year paul luka perform bring tear to my eye and bett davi in one of her veri few truli sympathet role is a delight the kid are as grandma say more like dressedup midget than children but that onli make them more fun to watch and the mother slow awaken to what happen in the world and under her own roof is believ and startl if i had a dozen thumb theyd all be up for thi movi'"
      ]
     },
     "execution_count": 67,
     "metadata": {},
     "output_type": "execute_result"
    }
   ],
   "source": [
    "text = 'probably my alltime favorite movie a story of selflessness sacrifice and dedication to a noble cause but its not preachy or boring it just never gets old despite my having seen it some 15 or more times in the last 25 years paul lukas performance brings tears to my eyes and bette davis in one of her very few truly sympathetic roles is a delight the kids are as grandma says more like dressedup midgets than children but that only makes them more fun to watch and the mothers slow awakening to whats happening in the world and under her own roof is believable and startling if i had a dozen thumbs theyd all be up for this movie'\n",
    "print(text)\n",
    "stem_words(text)"
   ]
  },
  {
   "cell_type": "markdown",
   "id": "a6bfa442",
   "metadata": {
    "papermill": {
     "duration": 0.073991,
     "end_time": "2023-01-18T14:21:36.808748",
     "exception": false,
     "start_time": "2023-01-18T14:21:36.734757",
     "status": "completed"
    },
    "tags": []
   },
   "source": [
    "# Lemmatizer"
   ]
  },
  {
   "cell_type": "code",
   "execution_count": 68,
   "id": "a0558ea8",
   "metadata": {
    "execution": {
     "iopub.execute_input": "2023-01-18T14:21:36.977114Z",
     "iopub.status.busy": "2023-01-18T14:21:36.976191Z",
     "iopub.status.idle": "2023-01-18T14:21:39.150812Z",
     "shell.execute_reply": "2023-01-18T14:21:39.150187Z",
     "shell.execute_reply.started": "2023-01-18T14:01:05.953739Z"
    },
    "papermill": {
     "duration": 2.264072,
     "end_time": "2023-01-18T14:21:39.151027",
     "exception": false,
     "start_time": "2023-01-18T14:21:36.886955",
     "status": "completed"
    },
    "tags": []
   },
   "outputs": [
    {
     "name": "stdout",
     "output_type": "stream",
     "text": [
      "Word                Lemma               \n",
      "He                  He                  \n",
      "was                 be                  \n",
      "running             run                 \n",
      "and                 and                 \n",
      "eating              eat                 \n",
      "at                  at                  \n",
      "same                same                \n",
      "time                time                \n",
      "He                  He                  \n",
      "has                 have                \n",
      "bad                 bad                 \n",
      "habit               habit               \n",
      "of                  of                  \n",
      "swimming            swim                \n",
      "after               after               \n",
      "playing             play                \n",
      "long                long                \n",
      "hours               hours               \n",
      "in                  in                  \n",
      "the                 the                 \n",
      "Sun                 Sun                 \n"
     ]
    }
   ],
   "source": [
    "import nltk\n",
    "from nltk.stem import WordNetLemmatizer\n",
    "wordnet_lemmatizer = WordNetLemmatizer()\n",
    "\n",
    "sentence = \"He was running and eating at same time. He has bad habit of swimming after playing long hours in the Sun.\"\n",
    "punctuations=\"?:!.,;\"\n",
    "sentence_words = nltk.word_tokenize(sentence)\n",
    "for word in sentence_words:\n",
    "    if word in punctuations:\n",
    "        sentence_words.remove(word)\n",
    "\n",
    "sentence_words\n",
    "print(\"{0:20}{1:20}\".format(\"Word\",\"Lemma\"))\n",
    "for word in sentence_words:\n",
    "    print (\"{0:20}{1:20}\".format(word,wordnet_lemmatizer.lemmatize(word,pos='v')))"
   ]
  },
  {
   "cell_type": "markdown",
   "id": "0740a950",
   "metadata": {
    "papermill": {
     "duration": 0.078118,
     "end_time": "2023-01-18T14:21:39.307301",
     "exception": false,
     "start_time": "2023-01-18T14:21:39.229183",
     "status": "completed"
    },
    "tags": []
   },
   "source": []
  }
 ],
 "metadata": {
  "kernelspec": {
   "display_name": "Python 3 (ipykernel)",
   "language": "python",
   "name": "python3"
  },
  "language_info": {
   "codemirror_mode": {
    "name": "ipython",
    "version": 3
   },
   "file_extension": ".py",
   "mimetype": "text/x-python",
   "name": "python",
   "nbconvert_exporter": "python",
   "pygments_lexer": "ipython3",
   "version": "3.12.2"
  },
  "papermill": {
   "default_parameters": {},
   "duration": 45.013663,
   "end_time": "2023-01-18T14:21:42.546418",
   "environment_variables": {},
   "exception": null,
   "input_path": "__notebook__.ipynb",
   "output_path": "__notebook__.ipynb",
   "parameters": {},
   "start_time": "2023-01-18T14:20:57.532755",
   "version": "2.3.3"
  }
 },
 "nbformat": 4,
 "nbformat_minor": 5
}
