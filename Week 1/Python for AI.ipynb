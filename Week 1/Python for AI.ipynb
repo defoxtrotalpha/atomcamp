{
 "cells": [
  {
   "cell_type": "code",
   "execution_count": 2,
   "id": "1d601ddf-f8d8-4b57-9eb1-2ee122018f29",
   "metadata": {},
   "outputs": [],
   "source": [
    "# Heading 1\n",
    "## Heading 2"
   ]
  },
  {
   "cell_type": "code",
   "execution_count": 4,
   "id": "6286afff-5ce3-48b4-b371-a846a001eaef",
   "metadata": {},
   "outputs": [
    {
     "data": {
      "text/plain": [
       "'C:\\\\Users\\\\bilal\\\\OneDrive\\\\Desktop\\\\Atomcamp\\\\Week 1'"
      ]
     },
     "execution_count": 4,
     "metadata": {},
     "output_type": "execute_result"
    }
   ],
   "source": [
    "import os\n",
    "os.getcwd()"
   ]
  },
  {
   "cell_type": "code",
   "execution_count": null,
   "id": "383477cd-d0cf-4df2-91a0-bdb2724e1d97",
   "metadata": {},
   "outputs": [],
   "source": []
  }
 ],
 "metadata": {
  "kernelspec": {
   "display_name": "Python 3 (ipykernel)",
   "language": "python",
   "name": "python3"
  },
  "language_info": {
   "codemirror_mode": {
    "name": "ipython",
    "version": 3
   },
   "file_extension": ".py",
   "mimetype": "text/x-python",
   "name": "python",
   "nbconvert_exporter": "python",
   "pygments_lexer": "ipython3",
   "version": "3.11.7"
  }
 },
 "nbformat": 4,
 "nbformat_minor": 5
}
