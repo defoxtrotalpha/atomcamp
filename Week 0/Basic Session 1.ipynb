{
 "cells": [
  {
   "cell_type": "code",
   "execution_count": 7,
   "id": "babad913-58cd-4f69-9c7a-a32b5030568c",
   "metadata": {},
   "outputs": [],
   "source": [
    "#Inheritance"
   ]
  },
  {
   "cell_type": "code",
   "execution_count": 6,
   "id": "9f9a85a2-1f11-41c6-a5c9-575badc244c4",
   "metadata": {},
   "outputs": [
    {
     "name": "stdout",
     "output_type": "stream",
     "text": [
      "Hello world\n"
     ]
    }
   ],
   "source": [
    "print(\"Hello world\")"
   ]
  },
  {
   "cell_type": "code",
   "execution_count": 14,
   "id": "2155b4a4-597a-4f36-a27a-fa9efdd495db",
   "metadata": {},
   "outputs": [],
   "source": [
    "class Vehicle:\n",
    "    def general_usage(self):\n",
    "        print(\"Transportation\")\n",
    "class Car(Vehicle):\n",
    "    def _init_(self):\n",
    "        print(\"Im car\")\n",
    "        self.wheels = 4\n",
    "        self.has_roof = True\n",
    "    def specific_usage(self):\n",
    "        print(\"specific use: commute\")\n",
    "\n",
    "c=Car()"
   ]
  },
  {
   "cell_type": "code",
   "execution_count": 15,
   "id": "6adad557-5528-4fde-806a-732840297672",
   "metadata": {},
   "outputs": [
    {
     "name": "stdout",
     "output_type": "stream",
     "text": [
      "Transportation\n",
      "specific use: commute\n"
     ]
    }
   ],
   "source": [
    "c.general_usage()\n",
    "c.specific_usage()"
   ]
  },
  {
   "cell_type": "code",
   "execution_count": 17,
   "id": "4d7a0ac3-7b60-4df2-8e8b-4fe1ea9d73d6",
   "metadata": {},
   "outputs": [],
   "source": [
    "#Multiple Inheritance"
   ]
  },
  {
   "cell_type": "code",
   "execution_count": 20,
   "id": "81b562cc-a169-4fb9-ae43-f11d7b99f29a",
   "metadata": {},
   "outputs": [
    {
     "name": "stdout",
     "output_type": "stream",
     "text": [
      "MultiDerived method called\n"
     ]
    }
   ],
   "source": [
    "class Base1:\n",
    "    def method(self):\n",
    "        print(\"Base1 method called\")\n",
    "\n",
    "class Base2:\n",
    "    def method(self):\n",
    "        print(\"Base2 method called\")\n",
    "\n",
    "class MultiDerived(Base1, Base2):\n",
    "    def method(self):\n",
    "        print(\"MultiDerived method called\")\n",
    "\n",
    "# Create an instance of MultiDerived\n",
    "obj = MultiDerived()\n",
    "\n",
    "# Call method\n",
    "obj.method()  # Output: MultiDerived method called"
   ]
  },
  {
   "cell_type": "code",
   "execution_count": 21,
   "id": "985a8bc7-075d-4591-9f26-2c715ac651c4",
   "metadata": {},
   "outputs": [],
   "source": [
    "#Raise Exception and finally"
   ]
  },
  {
   "cell_type": "code",
   "execution_count": 24,
   "id": "32d82838-d665-4dc4-bf0a-9c1f3fcbf860",
   "metadata": {},
   "outputs": [
    {
     "name": "stdout",
     "output_type": "stream",
     "text": [
      "User Defined exception: two cars crashed\n",
      "finally will always execute if any exception other than 'Accident' is occured\n"
     ]
    }
   ],
   "source": [
    "class Accident(Exception):\n",
    "    def __init__(self, msg):\n",
    "        self.msg=msg\n",
    "    def print_exception(self):\n",
    "        print(\"User Defined exception: \"+ self.msg)\n",
    "\n",
    "try:\n",
    "    raise Accident(\"two cars crashed\")\n",
    "except Accident as e:\n",
    "    e.print_exception()\n",
    "finally:\n",
    "    print(\"finally will always executed no matter what\")"
   ]
  },
  {
   "cell_type": "code",
   "execution_count": 25,
   "id": "65a2ce4c-5983-4c77-88ef-959b4c6269a5",
   "metadata": {},
   "outputs": [],
   "source": [
    "#Generators"
   ]
  },
  {
   "cell_type": "code",
   "execution_count": 1,
   "id": "4e50524e-a61a-4c05-a142-fa6f1426ce4d",
   "metadata": {},
   "outputs": [
    {
     "name": "stdout",
     "output_type": "stream",
     "text": [
      "0\n",
      "1\n",
      "1\n",
      "2\n",
      "3\n",
      "5\n",
      "8\n",
      "13\n",
      "21\n",
      "34\n",
      "55\n",
      "89\n"
     ]
    }
   ],
   "source": [
    "def remote_control_next():\n",
    "    yield \"cnn\" #yield remembers te state when a value is returned\n",
    "    yield \"bbc\"\n",
    "\n",
    "itr = remote_control_next()\n",
    "next(itr)\n",
    "#next(itr)\n",
    "\n",
    "def fib():\n",
    "    a,b=0,1\n",
    "    while True:\n",
    "        yield a\n",
    "        a, b = b, a+b\n",
    "\n",
    "c=fib()\n",
    "\n",
    "for f in c:\n",
    "    if f>100:\n",
    "        break\n",
    "    print(f)"
   ]
  },
  {
   "cell_type": "code",
   "execution_count": 1,
   "id": "cc3f477b-a5c5-433a-a822-8f533d3accfb",
   "metadata": {},
   "outputs": [],
   "source": [
    "#Multithreading"
   ]
  },
  {
   "cell_type": "code",
   "execution_count": 10,
   "id": "fafd674c-5129-42f1-876f-a496ea7d8fdb",
   "metadata": {},
   "outputs": [
    {
     "name": "stdout",
     "output_type": "stream",
     "text": [
      "\n",
      "square 4\n",
      "\n",
      "square 9\n",
      "\n",
      "square 36\n",
      "\n",
      "square 64\n",
      "\n",
      "cube 8\n",
      "\n",
      "cube 27\n",
      "\n",
      "cube 216\n",
      "\n",
      "cube 512\n",
      "Done in : 1.612511396408081\n",
      "\n",
      "square 4\n",
      "\n",
      "cube 8\n",
      "\n",
      "cube 27\n",
      "\n",
      "square 9\n",
      "\n",
      "square\n",
      "cube 216\n",
      " 36\n",
      "\n",
      "square 64\n",
      "\n",
      "cube 512\n",
      "Done in : 0.8058435916900635\n"
     ]
    }
   ],
   "source": [
    "import time\n",
    "import threading\n",
    "def calc_square(numbers):\n",
    "    for n in numbers:\n",
    "        time.sleep(0.2)\n",
    "        print('\\nsquare', n*n)\n",
    "\n",
    "def calc_cube(numbers):\n",
    "    for n in numbers:\n",
    "        time.sleep(0.2)\n",
    "        print('\\ncube', n*n*n)\n",
    "\n",
    "arr=[2,3,6,8]\n",
    "t=time.time()\n",
    "calc_square(arr)\n",
    "calc_cube(arr)\n",
    "print(\"Done in :\" ,time.time()-t) #Without threading\n",
    "\n",
    "t=time.time()\n",
    "t1=threading.Thread(target=calc_square, args=(arr,))\n",
    "t2=threading.Thread(target=calc_cube, args=(arr,))\n",
    "\n",
    "t1.start()\n",
    "t2.start()\n",
    "\n",
    "t1.join() #wait until thread finishes execution\n",
    "t2.join()\n",
    "\n",
    "print(\"Done in :\" ,time.time()-t)"
   ]
  },
  {
   "cell_type": "code",
   "execution_count": null,
   "id": "4c844cab-bfcd-486a-930a-b2eb0444dea6",
   "metadata": {},
   "outputs": [],
   "source": []
  }
 ],
 "metadata": {
  "kernelspec": {
   "display_name": "Python 3 (ipykernel)",
   "language": "python",
   "name": "python3"
  },
  "language_info": {
   "codemirror_mode": {
    "name": "ipython",
    "version": 3
   },
   "file_extension": ".py",
   "mimetype": "text/x-python",
   "name": "python",
   "nbconvert_exporter": "python",
   "pygments_lexer": "ipython3",
   "version": "3.11.7"
  }
 },
 "nbformat": 4,
 "nbformat_minor": 5
}
